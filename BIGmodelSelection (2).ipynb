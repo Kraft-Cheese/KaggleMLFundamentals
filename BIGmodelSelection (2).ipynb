{
 "cells": [
  {
   "cell_type": "code",
   "execution_count": 1,
   "id": "f4d8a76e-09a2-4c54-aaae-1fa87ac86888",
   "metadata": {},
   "outputs": [],
   "source": [
    "import numpy as np\n",
    "import pandas as pd\n",
    "from sklearn.feature_extraction.text import TfidfTransformer\n",
    "from sklearn.decomposition import TruncatedSVD, PCA\n",
    "from sklearn.feature_selection import SelectKBest, chi2, mutual_info_classif\n",
    "from sklearn.cluster import KMeans\n",
    "from sklearn.ensemble import RandomForestClassifier\n",
    "from sklearn.naive_bayes import MultinomialNB\n",
    "from sklearn.model_selection import cross_val_score\n",
    "from sklearn.metrics import make_scorer, f1_score\n",
    "from sklearn.linear_model import LogisticRegression\n",
    "import matplotlib.pyplot as plt\n",
    "from lightgbm import LGBMClassifier\n",
    "from tqdm import tqdm\n",
    "from sklearn.model_selection import GridSearchCV\n",
    "import optuna"
   ]
  },
  {
   "cell_type": "code",
   "execution_count": 2,
   "id": "554156f6-52b0-4dd3-9e36-3669f57a7a6c",
   "metadata": {},
   "outputs": [
    {
     "name": "stdout",
     "output_type": "stream",
     "text": [
      "Applying TF-IDF Transformation...\n",
      "Transformation applied!\n"
     ]
    }
   ],
   "source": [
    "# Load data\n",
    "data_train = np.load('data_train.npy', allow_pickle = True)\n",
    "data_test = np.load('data_test.npy', allow_pickle = True)\n",
    "vocab_map = np.load('vocab_map.npy', allow_pickle=True)\n",
    "\n",
    "# Load labels_train from CSV and extract the 'label' column\n",
    "labels_train_df = pd.read_csv('label_train.csv')  # Assuming this is your labels file\n",
    "labels_train = labels_train_df['label'].values  # Extract the labels as a NumPy array\n",
    "\n",
    "# Convert training data to a DataFrame for visualization\n",
    "df_train = pd.DataFrame(data_train)\n",
    "\n",
    "# Add column names using vocab_map\n",
    "df_train.columns = vocab_map\n",
    "\n",
    "# Add the target labels to the DataFrame\n",
    "df_train['TARGETT'] = labels_train\n",
    "\n",
    "# Separate features and target variable\n",
    "X = df_train.drop(columns=['TARGETT'])\n",
    "y = df_train['TARGETT']\n",
    "\n",
    "# Step 1: Apply TF-IDF Transformation to the Term Count Matrix\n",
    "print(\"Applying TF-IDF Transformation...\")\n",
    "\n",
    "tfidf_transformer = TfidfTransformer()\n",
    "X_tfidf = tfidf_transformer.fit_transform(X)\n",
    "\n",
    "print(\"Transformation applied!\")"
   ]
  },
  {
   "cell_type": "code",
   "execution_count": 32,
   "id": "4d921998-1888-47cc-b17f-7f0960f34c48",
   "metadata": {},
   "outputs": [
    {
     "name": "stdout",
     "output_type": "stream",
     "text": [
      "4000 components explain 85.01% of the variance\n",
      "4500 components explain 87.94% of the variance\n"
     ]
    },
    {
     "ename": "KeyboardInterrupt",
     "evalue": "",
     "output_type": "error",
     "traceback": [
      "\u001b[1;31m---------------------------------------------------------------------------\u001b[0m",
      "\u001b[1;31mKeyboardInterrupt\u001b[0m                         Traceback (most recent call last)",
      "Cell \u001b[1;32mIn[32], line 7\u001b[0m\n\u001b[0;32m      5\u001b[0m \u001b[38;5;28;01mfor\u001b[39;00m n \u001b[38;5;129;01min\u001b[39;00m n_components_range:\n\u001b[0;32m      6\u001b[0m     svd \u001b[38;5;241m=\u001b[39m TruncatedSVD(n_components\u001b[38;5;241m=\u001b[39mn, random_state\u001b[38;5;241m=\u001b[39m\u001b[38;5;241m42\u001b[39m)\n\u001b[1;32m----> 7\u001b[0m     \u001b[43msvd\u001b[49m\u001b[38;5;241;43m.\u001b[39;49m\u001b[43mfit\u001b[49m\u001b[43m(\u001b[49m\u001b[43mX_tfidf_scaled\u001b[49m\u001b[43m)\u001b[49m\n\u001b[0;32m      8\u001b[0m     cumulative_variance \u001b[38;5;241m=\u001b[39m svd\u001b[38;5;241m.\u001b[39mexplained_variance_ratio_\u001b[38;5;241m.\u001b[39msum()\n\u001b[0;32m      9\u001b[0m     explained_variance_ratio\u001b[38;5;241m.\u001b[39mappend(cumulative_variance)\n",
      "File \u001b[1;32mD:\\miniCondaa\\envs\\kaggle1IFT3395\\lib\\site-packages\\sklearn\\decomposition\\_truncated_svd.py:208\u001b[0m, in \u001b[0;36mTruncatedSVD.fit\u001b[1;34m(self, X, y)\u001b[0m\n\u001b[0;32m    192\u001b[0m \u001b[38;5;28;01mdef\u001b[39;00m \u001b[38;5;21mfit\u001b[39m(\u001b[38;5;28mself\u001b[39m, X, y\u001b[38;5;241m=\u001b[39m\u001b[38;5;28;01mNone\u001b[39;00m):\n\u001b[0;32m    193\u001b[0m \u001b[38;5;250m    \u001b[39m\u001b[38;5;124;03m\"\"\"Fit model on training data X.\u001b[39;00m\n\u001b[0;32m    194\u001b[0m \n\u001b[0;32m    195\u001b[0m \u001b[38;5;124;03m    Parameters\u001b[39;00m\n\u001b[1;32m   (...)\u001b[0m\n\u001b[0;32m    206\u001b[0m \u001b[38;5;124;03m        Returns the transformer object.\u001b[39;00m\n\u001b[0;32m    207\u001b[0m \u001b[38;5;124;03m    \"\"\"\u001b[39;00m\n\u001b[1;32m--> 208\u001b[0m     \u001b[38;5;28;43mself\u001b[39;49m\u001b[38;5;241;43m.\u001b[39;49m\u001b[43mfit_transform\u001b[49m\u001b[43m(\u001b[49m\u001b[43mX\u001b[49m\u001b[43m)\u001b[49m\n\u001b[0;32m    209\u001b[0m     \u001b[38;5;28;01mreturn\u001b[39;00m \u001b[38;5;28mself\u001b[39m\n",
      "File \u001b[1;32mD:\\miniCondaa\\envs\\kaggle1IFT3395\\lib\\site-packages\\sklearn\\utils\\_set_output.py:316\u001b[0m, in \u001b[0;36m_wrap_method_output.<locals>.wrapped\u001b[1;34m(self, X, *args, **kwargs)\u001b[0m\n\u001b[0;32m    314\u001b[0m \u001b[38;5;129m@wraps\u001b[39m(f)\n\u001b[0;32m    315\u001b[0m \u001b[38;5;28;01mdef\u001b[39;00m \u001b[38;5;21mwrapped\u001b[39m(\u001b[38;5;28mself\u001b[39m, X, \u001b[38;5;241m*\u001b[39margs, \u001b[38;5;241m*\u001b[39m\u001b[38;5;241m*\u001b[39mkwargs):\n\u001b[1;32m--> 316\u001b[0m     data_to_wrap \u001b[38;5;241m=\u001b[39m f(\u001b[38;5;28mself\u001b[39m, X, \u001b[38;5;241m*\u001b[39margs, \u001b[38;5;241m*\u001b[39m\u001b[38;5;241m*\u001b[39mkwargs)\n\u001b[0;32m    317\u001b[0m     \u001b[38;5;28;01mif\u001b[39;00m \u001b[38;5;28misinstance\u001b[39m(data_to_wrap, \u001b[38;5;28mtuple\u001b[39m):\n\u001b[0;32m    318\u001b[0m         \u001b[38;5;66;03m# only wrap the first output for cross decomposition\u001b[39;00m\n\u001b[0;32m    319\u001b[0m         return_tuple \u001b[38;5;241m=\u001b[39m (\n\u001b[0;32m    320\u001b[0m             _wrap_data_with_container(method, data_to_wrap[\u001b[38;5;241m0\u001b[39m], X, \u001b[38;5;28mself\u001b[39m),\n\u001b[0;32m    321\u001b[0m             \u001b[38;5;241m*\u001b[39mdata_to_wrap[\u001b[38;5;241m1\u001b[39m:],\n\u001b[0;32m    322\u001b[0m         )\n",
      "File \u001b[1;32mD:\\miniCondaa\\envs\\kaggle1IFT3395\\lib\\site-packages\\sklearn\\base.py:1473\u001b[0m, in \u001b[0;36m_fit_context.<locals>.decorator.<locals>.wrapper\u001b[1;34m(estimator, *args, **kwargs)\u001b[0m\n\u001b[0;32m   1466\u001b[0m     estimator\u001b[38;5;241m.\u001b[39m_validate_params()\n\u001b[0;32m   1468\u001b[0m \u001b[38;5;28;01mwith\u001b[39;00m config_context(\n\u001b[0;32m   1469\u001b[0m     skip_parameter_validation\u001b[38;5;241m=\u001b[39m(\n\u001b[0;32m   1470\u001b[0m         prefer_skip_nested_validation \u001b[38;5;129;01mor\u001b[39;00m global_skip_validation\n\u001b[0;32m   1471\u001b[0m     )\n\u001b[0;32m   1472\u001b[0m ):\n\u001b[1;32m-> 1473\u001b[0m     \u001b[38;5;28;01mreturn\u001b[39;00m fit_method(estimator, \u001b[38;5;241m*\u001b[39margs, \u001b[38;5;241m*\u001b[39m\u001b[38;5;241m*\u001b[39mkwargs)\n",
      "File \u001b[1;32mD:\\miniCondaa\\envs\\kaggle1IFT3395\\lib\\site-packages\\sklearn\\decomposition\\_truncated_svd.py:246\u001b[0m, in \u001b[0;36mTruncatedSVD.fit_transform\u001b[1;34m(self, X, y)\u001b[0m\n\u001b[0;32m    241\u001b[0m     \u001b[38;5;28;01mif\u001b[39;00m \u001b[38;5;28mself\u001b[39m\u001b[38;5;241m.\u001b[39mn_components \u001b[38;5;241m>\u001b[39m X\u001b[38;5;241m.\u001b[39mshape[\u001b[38;5;241m1\u001b[39m]:\n\u001b[0;32m    242\u001b[0m         \u001b[38;5;28;01mraise\u001b[39;00m \u001b[38;5;167;01mValueError\u001b[39;00m(\n\u001b[0;32m    243\u001b[0m             \u001b[38;5;124mf\u001b[39m\u001b[38;5;124m\"\u001b[39m\u001b[38;5;124mn_components(\u001b[39m\u001b[38;5;132;01m{\u001b[39;00m\u001b[38;5;28mself\u001b[39m\u001b[38;5;241m.\u001b[39mn_components\u001b[38;5;132;01m}\u001b[39;00m\u001b[38;5;124m) must be <=\u001b[39m\u001b[38;5;124m\"\u001b[39m\n\u001b[0;32m    244\u001b[0m             \u001b[38;5;124mf\u001b[39m\u001b[38;5;124m\"\u001b[39m\u001b[38;5;124m n_features(\u001b[39m\u001b[38;5;132;01m{\u001b[39;00mX\u001b[38;5;241m.\u001b[39mshape[\u001b[38;5;241m1\u001b[39m]\u001b[38;5;132;01m}\u001b[39;00m\u001b[38;5;124m).\u001b[39m\u001b[38;5;124m\"\u001b[39m\n\u001b[0;32m    245\u001b[0m         )\n\u001b[1;32m--> 246\u001b[0m     U, Sigma, VT \u001b[38;5;241m=\u001b[39m \u001b[43mrandomized_svd\u001b[49m\u001b[43m(\u001b[49m\n\u001b[0;32m    247\u001b[0m \u001b[43m        \u001b[49m\u001b[43mX\u001b[49m\u001b[43m,\u001b[49m\n\u001b[0;32m    248\u001b[0m \u001b[43m        \u001b[49m\u001b[38;5;28;43mself\u001b[39;49m\u001b[38;5;241;43m.\u001b[39;49m\u001b[43mn_components\u001b[49m\u001b[43m,\u001b[49m\n\u001b[0;32m    249\u001b[0m \u001b[43m        \u001b[49m\u001b[43mn_iter\u001b[49m\u001b[38;5;241;43m=\u001b[39;49m\u001b[38;5;28;43mself\u001b[39;49m\u001b[38;5;241;43m.\u001b[39;49m\u001b[43mn_iter\u001b[49m\u001b[43m,\u001b[49m\n\u001b[0;32m    250\u001b[0m \u001b[43m        \u001b[49m\u001b[43mn_oversamples\u001b[49m\u001b[38;5;241;43m=\u001b[39;49m\u001b[38;5;28;43mself\u001b[39;49m\u001b[38;5;241;43m.\u001b[39;49m\u001b[43mn_oversamples\u001b[49m\u001b[43m,\u001b[49m\n\u001b[0;32m    251\u001b[0m \u001b[43m        \u001b[49m\u001b[43mpower_iteration_normalizer\u001b[49m\u001b[38;5;241;43m=\u001b[39;49m\u001b[38;5;28;43mself\u001b[39;49m\u001b[38;5;241;43m.\u001b[39;49m\u001b[43mpower_iteration_normalizer\u001b[49m\u001b[43m,\u001b[49m\n\u001b[0;32m    252\u001b[0m \u001b[43m        \u001b[49m\u001b[43mrandom_state\u001b[49m\u001b[38;5;241;43m=\u001b[39;49m\u001b[43mrandom_state\u001b[49m\u001b[43m,\u001b[49m\n\u001b[0;32m    253\u001b[0m \u001b[43m        \u001b[49m\u001b[43mflip_sign\u001b[49m\u001b[38;5;241;43m=\u001b[39;49m\u001b[38;5;28;43;01mFalse\u001b[39;49;00m\u001b[43m,\u001b[49m\n\u001b[0;32m    254\u001b[0m \u001b[43m    \u001b[49m\u001b[43m)\u001b[49m\n\u001b[0;32m    255\u001b[0m     U, VT \u001b[38;5;241m=\u001b[39m svd_flip(U, VT, u_based_decision\u001b[38;5;241m=\u001b[39m\u001b[38;5;28;01mFalse\u001b[39;00m)\n\u001b[0;32m    257\u001b[0m \u001b[38;5;28mself\u001b[39m\u001b[38;5;241m.\u001b[39mcomponents_ \u001b[38;5;241m=\u001b[39m VT\n",
      "File \u001b[1;32mD:\\miniCondaa\\envs\\kaggle1IFT3395\\lib\\site-packages\\sklearn\\utils\\_param_validation.py:186\u001b[0m, in \u001b[0;36mvalidate_params.<locals>.decorator.<locals>.wrapper\u001b[1;34m(*args, **kwargs)\u001b[0m\n\u001b[0;32m    184\u001b[0m global_skip_validation \u001b[38;5;241m=\u001b[39m get_config()[\u001b[38;5;124m\"\u001b[39m\u001b[38;5;124mskip_parameter_validation\u001b[39m\u001b[38;5;124m\"\u001b[39m]\n\u001b[0;32m    185\u001b[0m \u001b[38;5;28;01mif\u001b[39;00m global_skip_validation:\n\u001b[1;32m--> 186\u001b[0m     \u001b[38;5;28;01mreturn\u001b[39;00m func(\u001b[38;5;241m*\u001b[39margs, \u001b[38;5;241m*\u001b[39m\u001b[38;5;241m*\u001b[39mkwargs)\n\u001b[0;32m    188\u001b[0m func_sig \u001b[38;5;241m=\u001b[39m signature(func)\n\u001b[0;32m    190\u001b[0m \u001b[38;5;66;03m# Map *args/**kwargs to the function signature\u001b[39;00m\n",
      "File \u001b[1;32mD:\\miniCondaa\\envs\\kaggle1IFT3395\\lib\\site-packages\\sklearn\\utils\\extmath.py:520\u001b[0m, in \u001b[0;36mrandomized_svd\u001b[1;34m(M, n_components, n_oversamples, n_iter, power_iteration_normalizer, transpose, flip_sign, random_state, svd_lapack_driver)\u001b[0m\n\u001b[0;32m    516\u001b[0m \u001b[38;5;28;01mif\u001b[39;00m transpose:\n\u001b[0;32m    517\u001b[0m     \u001b[38;5;66;03m# this implementation is a bit faster with smaller shape[1]\u001b[39;00m\n\u001b[0;32m    518\u001b[0m     M \u001b[38;5;241m=\u001b[39m M\u001b[38;5;241m.\u001b[39mT\n\u001b[1;32m--> 520\u001b[0m Q \u001b[38;5;241m=\u001b[39m \u001b[43mrandomized_range_finder\u001b[49m\u001b[43m(\u001b[49m\n\u001b[0;32m    521\u001b[0m \u001b[43m    \u001b[49m\u001b[43mM\u001b[49m\u001b[43m,\u001b[49m\n\u001b[0;32m    522\u001b[0m \u001b[43m    \u001b[49m\u001b[43msize\u001b[49m\u001b[38;5;241;43m=\u001b[39;49m\u001b[43mn_random\u001b[49m\u001b[43m,\u001b[49m\n\u001b[0;32m    523\u001b[0m \u001b[43m    \u001b[49m\u001b[43mn_iter\u001b[49m\u001b[38;5;241;43m=\u001b[39;49m\u001b[43mn_iter\u001b[49m\u001b[43m,\u001b[49m\n\u001b[0;32m    524\u001b[0m \u001b[43m    \u001b[49m\u001b[43mpower_iteration_normalizer\u001b[49m\u001b[38;5;241;43m=\u001b[39;49m\u001b[43mpower_iteration_normalizer\u001b[49m\u001b[43m,\u001b[49m\n\u001b[0;32m    525\u001b[0m \u001b[43m    \u001b[49m\u001b[43mrandom_state\u001b[49m\u001b[38;5;241;43m=\u001b[39;49m\u001b[43mrandom_state\u001b[49m\u001b[43m,\u001b[49m\n\u001b[0;32m    526\u001b[0m \u001b[43m\u001b[49m\u001b[43m)\u001b[49m\n\u001b[0;32m    528\u001b[0m \u001b[38;5;66;03m# project M to the (k + p) dimensional space using the basis vectors\u001b[39;00m\n\u001b[0;32m    529\u001b[0m B \u001b[38;5;241m=\u001b[39m Q\u001b[38;5;241m.\u001b[39mT \u001b[38;5;241m@\u001b[39m M\n",
      "File \u001b[1;32mD:\\miniCondaa\\envs\\kaggle1IFT3395\\lib\\site-packages\\sklearn\\utils\\extmath.py:342\u001b[0m, in \u001b[0;36mrandomized_range_finder\u001b[1;34m(A, size, n_iter, power_iteration_normalizer, random_state)\u001b[0m\n\u001b[0;32m    338\u001b[0m     Q, _ \u001b[38;5;241m=\u001b[39m normalizer(A\u001b[38;5;241m.\u001b[39mT \u001b[38;5;241m@\u001b[39m Q)\n\u001b[0;32m    340\u001b[0m \u001b[38;5;66;03m# Sample the range of A using by linear projection of Q\u001b[39;00m\n\u001b[0;32m    341\u001b[0m \u001b[38;5;66;03m# Extract an orthonormal basis\u001b[39;00m\n\u001b[1;32m--> 342\u001b[0m Q, _ \u001b[38;5;241m=\u001b[39m \u001b[43mqr_normalizer\u001b[49m\u001b[43m(\u001b[49m\u001b[43mA\u001b[49m\u001b[43m \u001b[49m\u001b[38;5;241;43m@\u001b[39;49m\u001b[43m \u001b[49m\u001b[43mQ\u001b[49m\u001b[43m)\u001b[49m\n\u001b[0;32m    344\u001b[0m \u001b[38;5;28;01mreturn\u001b[39;00m Q\n",
      "File \u001b[1;32mD:\\miniCondaa\\envs\\kaggle1IFT3395\\lib\\site-packages\\scipy\\linalg\\_decomp_qr.py:167\u001b[0m, in \u001b[0;36mqr\u001b[1;34m(a, overwrite_a, lwork, mode, pivoting, check_finite)\u001b[0m\n\u001b[0;32m    164\u001b[0m     Q, \u001b[38;5;241m=\u001b[39m safecall(gor_un_gqr, \u001b[38;5;124m\"\u001b[39m\u001b[38;5;124mgorgqr/gungqr\u001b[39m\u001b[38;5;124m\"\u001b[39m, qr[:, :M], tau,\n\u001b[0;32m    165\u001b[0m                   lwork\u001b[38;5;241m=\u001b[39mlwork, overwrite_a\u001b[38;5;241m=\u001b[39m\u001b[38;5;241m1\u001b[39m)\n\u001b[0;32m    166\u001b[0m \u001b[38;5;28;01melif\u001b[39;00m mode \u001b[38;5;241m==\u001b[39m \u001b[38;5;124m'\u001b[39m\u001b[38;5;124meconomic\u001b[39m\u001b[38;5;124m'\u001b[39m:\n\u001b[1;32m--> 167\u001b[0m     Q, \u001b[38;5;241m=\u001b[39m \u001b[43msafecall\u001b[49m\u001b[43m(\u001b[49m\u001b[43mgor_un_gqr\u001b[49m\u001b[43m,\u001b[49m\u001b[43m \u001b[49m\u001b[38;5;124;43m\"\u001b[39;49m\u001b[38;5;124;43mgorgqr/gungqr\u001b[39;49m\u001b[38;5;124;43m\"\u001b[39;49m\u001b[43m,\u001b[49m\u001b[43m \u001b[49m\u001b[43mqr\u001b[49m\u001b[43m,\u001b[49m\u001b[43m \u001b[49m\u001b[43mtau\u001b[49m\u001b[43m,\u001b[49m\u001b[43m \u001b[49m\u001b[43mlwork\u001b[49m\u001b[38;5;241;43m=\u001b[39;49m\u001b[43mlwork\u001b[49m\u001b[43m,\u001b[49m\n\u001b[0;32m    168\u001b[0m \u001b[43m                  \u001b[49m\u001b[43moverwrite_a\u001b[49m\u001b[38;5;241;43m=\u001b[39;49m\u001b[38;5;241;43m1\u001b[39;49m\u001b[43m)\u001b[49m\n\u001b[0;32m    169\u001b[0m \u001b[38;5;28;01melse\u001b[39;00m:\n\u001b[0;32m    170\u001b[0m     t \u001b[38;5;241m=\u001b[39m qr\u001b[38;5;241m.\u001b[39mdtype\u001b[38;5;241m.\u001b[39mchar\n",
      "File \u001b[1;32mD:\\miniCondaa\\envs\\kaggle1IFT3395\\lib\\site-packages\\scipy\\linalg\\_decomp_qr.py:19\u001b[0m, in \u001b[0;36msafecall\u001b[1;34m(f, name, *args, **kwargs)\u001b[0m\n\u001b[0;32m     17\u001b[0m     ret \u001b[38;5;241m=\u001b[39m f(\u001b[38;5;241m*\u001b[39margs, \u001b[38;5;241m*\u001b[39m\u001b[38;5;241m*\u001b[39mkwargs)\n\u001b[0;32m     18\u001b[0m     kwargs[\u001b[38;5;124m'\u001b[39m\u001b[38;5;124mlwork\u001b[39m\u001b[38;5;124m'\u001b[39m] \u001b[38;5;241m=\u001b[39m ret[\u001b[38;5;241m-\u001b[39m\u001b[38;5;241m2\u001b[39m][\u001b[38;5;241m0\u001b[39m]\u001b[38;5;241m.\u001b[39mreal\u001b[38;5;241m.\u001b[39mastype(numpy\u001b[38;5;241m.\u001b[39mint_)\n\u001b[1;32m---> 19\u001b[0m ret \u001b[38;5;241m=\u001b[39m f(\u001b[38;5;241m*\u001b[39margs, \u001b[38;5;241m*\u001b[39m\u001b[38;5;241m*\u001b[39mkwargs)\n\u001b[0;32m     20\u001b[0m \u001b[38;5;28;01mif\u001b[39;00m ret[\u001b[38;5;241m-\u001b[39m\u001b[38;5;241m1\u001b[39m] \u001b[38;5;241m<\u001b[39m \u001b[38;5;241m0\u001b[39m:\n\u001b[0;32m     21\u001b[0m     \u001b[38;5;28;01mraise\u001b[39;00m \u001b[38;5;167;01mValueError\u001b[39;00m(\u001b[38;5;124m\"\u001b[39m\u001b[38;5;124millegal value in \u001b[39m\u001b[38;5;132;01m%d\u001b[39;00m\u001b[38;5;124mth argument of internal \u001b[39m\u001b[38;5;132;01m%s\u001b[39;00m\u001b[38;5;124m\"\u001b[39m\n\u001b[0;32m     22\u001b[0m                      \u001b[38;5;241m%\u001b[39m (\u001b[38;5;241m-\u001b[39mret[\u001b[38;5;241m-\u001b[39m\u001b[38;5;241m1\u001b[39m], name))\n",
      "\u001b[1;31mKeyboardInterrupt\u001b[0m: "
     ]
    }
   ],
   "source": [
    "# Step 2: Determine Optimal SVD Components Based on Explained Variance\n",
    "explained_variance_ratio = []\n",
    "n_components_range = range(4000, 7001, 500)  # Test up to 1000 components in steps of 20 for efficiency\n",
    "\n",
    "for n in n_components_range:\n",
    "    svd = TruncatedSVD(n_components=n, random_state=42)\n",
    "    svd.fit(X_tfidf)\n",
    "    cumulative_variance = svd.explained_variance_ratio_.sum()\n",
    "    explained_variance_ratio.append(cumulative_variance)\n",
    "    print(f\"{n} components explain {cumulative_variance:.2%} of the variance\")\n",
    "\n",
    "# Plot Explained Variance to Find Elbow Point\n",
    "plt.figure()\n",
    "plt.plot(n_components_range, explained_variance_ratio, marker='o')\n",
    "plt.xlabel(\"Number of SVD Components\")\n",
    "plt.ylabel(\"Cumulative Explained Variance\")\n",
    "plt.title(\"Optimal Number of Components for SVD\")\n",
    "plt.grid()\n",
    "plt.show()\n"
   ]
  },
  {
   "cell_type": "code",
   "execution_count": 3,
   "id": "e0aae630-40e9-4f46-a1b2-cd5e44415ad8",
   "metadata": {},
   "outputs": [
    {
     "name": "stdout",
     "output_type": "stream",
     "text": [
      "X_svd_otimal found!\n"
     ]
    }
   ],
   "source": [
    "# Step 3: Transform Data Using Optimal SVD Components\n",
    "svd_optimal = TruncatedSVD(n_components=5000, random_state=42)\n",
    "X_svd_optimal = svd_optimal.fit_transform(X_tfidf)\n",
    "\n",
    "print(\"X_svd_otimal found!\")"
   ]
  },
  {
   "cell_type": "code",
   "execution_count": 4,
   "id": "dd60b73b-97a7-4b3b-93d3-0797032a9a35",
   "metadata": {},
   "outputs": [
    {
     "name": "stdout",
     "output_type": "stream",
     "text": [
      "Evaluating LightGBM Models...\n",
      "\n",
      "Model params: {'n_estimators': 100, 'learning_rate': 0.1, 'num_leaves': 31, 'max_depth': -1, 'random_state': 42, 'n_jobs': -1}\n",
      "Mean F1 Score: 0.6166\n",
      "\n",
      "Model params: {'n_estimators': 200, 'learning_rate': 0.05, 'num_leaves': 50, 'max_depth': 15, 'subsample': 0.8, 'colsample_bytree': 0.8, 'random_state': 42, 'n_jobs': -1}\n",
      "Mean F1 Score: 0.6045\n",
      "\n",
      "Model params: {'n_estimators': 150, 'learning_rate': 0.05, 'num_leaves': 20, 'max_depth': 10, 'lambda_l1': 0.1, 'lambda_l2': 0.1, 'min_child_samples': 20, 'subsample': 0.9, 'colsample_bytree': 0.9, 'random_state': 42, 'n_jobs': -1}\n",
      "Mean F1 Score: 0.6144\n",
      "\n",
      "\n",
      "Final Results Summary:\n",
      "Model 1 (Default): F1 Score = 0.6166\n",
      "Model 2 (Deeper Trees): F1 Score = 0.6045\n",
      "Model 3 (Regularization): F1 Score = 0.6144\n"
     ]
    }
   ],
   "source": [
    "# Step 4: Implement different combinations of hyper-parameters for finding a good LightGBM model\n",
    "\n",
    "# Define a parameter grid for LightGBM\n",
    "param_grid = {\n",
    "    'n_estimators': [100, 200, 300],               # Number of boosting rounds\n",
    "    'learning_rate': [0.01, 0.05, 0.1],            # Step size shrinkage\n",
    "    'num_leaves': [31, 50, 100],                   # Maximum number of leaves in a tree\n",
    "    'max_depth': [-1, 10, 20],                     # Maximum depth of the tree (-1 means no limit)\n",
    "    'min_child_samples': [10, 20, 50],             # Minimum number of samples per leaf\n",
    "    'min_child_weight': [1e-3, 1e-2, 1e-1],        # Minimum sum of instance weight (hessian) needed in a child\n",
    "    'subsample': [0.8, 1.0],                       # Fraction of samples used for each tree (boosting round)\n",
    "    'colsample_bytree': [0.8, 1.0],                # Fraction of features used for each tree\n",
    "    'lambda_l1': [0, 0.1, 1],                      # L1 regularization\n",
    "    'lambda_l2': [0, 0.1, 1],                      # L2 regularization\n",
    "}\n",
    "\n",
    "# Define the evaluation metric\n",
    "f1_scorer = make_scorer(f1_score, average='macro')\n",
    "\n",
    "# Function to train and evaluate a LightGBM model with GPU support\n",
    "def evaluate_lgbm_model(params, X, y):\n",
    "    model = LGBMClassifier(**params, n_jobs=-1)  # Use GPU acceleration\n",
    "    scores = cross_val_score(model, X, y, cv=3, scoring=f1_scorer, n_jobs=-1)\n",
    "    print(f\"Model params: {params}\")\n",
    "    print(f\"Mean F1 Score: {scores.mean():.4f}\\n\")\n",
    "    return scores.mean()\n",
    "\n",
    "# Model 1: Default settings with a small number of trees\n",
    "params_1 = {\n",
    "    'n_estimators': 100,\n",
    "    'learning_rate': 0.1,\n",
    "    'num_leaves': 31,\n",
    "    'max_depth': -1,\n",
    "    'random_state': 42,\n",
    "    'n_jobs': -1\n",
    "}\n",
    "\n",
    "# Model 2: Deeper trees with a lower learning rate\n",
    "params_2 = {\n",
    "    'n_estimators': 200,\n",
    "    'learning_rate': 0.05,\n",
    "    'num_leaves': 50,\n",
    "    'max_depth': 15,\n",
    "    'subsample': 0.8,\n",
    "    'colsample_bytree': 0.8,\n",
    "    'random_state': 42,\n",
    "    'n_jobs': -1\n",
    "}\n",
    "\n",
    "# Model 3: Fewer leaves but higher regularization\n",
    "params_3 = {\n",
    "    'n_estimators': 150,\n",
    "    'learning_rate': 0.05,\n",
    "    'num_leaves': 20,\n",
    "    'max_depth': 10,\n",
    "    'lambda_l1': 0.1,\n",
    "    'lambda_l2': 0.1,\n",
    "    'min_child_samples': 20,\n",
    "    'subsample': 0.9,\n",
    "    'colsample_bytree': 0.9,\n",
    "    'random_state': 42,\n",
    "    'n_jobs': -1\n",
    "}\n",
    "\n",
    "# Evaluate each model\n",
    "print(\"Evaluating LightGBM Models...\\n\")\n",
    "f1_model_1 = evaluate_lgbm_model(params_1, X_svd_optimal, y)\n",
    "f1_model_2 = evaluate_lgbm_model(params_2, X_svd_optimal, y)\n",
    "f1_model_3 = evaluate_lgbm_model(params_3, X_svd_optimal, y)\n",
    "\n",
    "# Summary of results\n",
    "results = {\n",
    "    \"Model 1 (Default)\": f1_model_1,\n",
    "    \"Model 2 (Deeper Trees)\": f1_model_2,\n",
    "    \"Model 3 (Regularization)\": f1_model_3\n",
    "}\n",
    "\n",
    "print(\"\\nFinal Results Summary:\")\n",
    "for model, score in results.items():\n",
    "    print(f\"{model}: F1 Score = {score:.4f}\")"
   ]
  },
  {
   "cell_type": "code",
   "execution_count": 5,
   "id": "3ae96128-1e60-4ffb-b45a-be637ee67d1e",
   "metadata": {},
   "outputs": [
    {
     "name": "stderr",
     "output_type": "stream",
     "text": [
      "[I 2024-11-09 00:00:20,680] A new study created in memory with name: no-name-7db9edad-f876-4f96-afac-57df4be238a7\n"
     ]
    },
    {
     "name": "stdout",
     "output_type": "stream",
     "text": [
      "\n",
      "Applying Optuna Optimization on SVD Data...\n"
     ]
    },
    {
     "name": "stderr",
     "output_type": "stream",
     "text": [
      "Optuna Trials Progress:   0%|                                                                   | 0/50 [00:00<?, ?it/s][I 2024-11-09 00:08:59,949] Trial 0 finished with value: 0.6235023474823428 and parameters: {'k': 3500, 'method': 'mutual_info', 'n_estimators': 630, 'learning_rate': 0.06887655111248715, 'num_leaves': 95, 'max_depth': 10, 'min_child_samples': 42, 'min_child_weight': 0.08082561158362306, 'subsample': 0.8270125925783023, 'colsample_bytree': 0.6693087804091462, 'lambda_l1': 0.01750099457880224, 'lambda_l2': 0.007862327009207089}. Best is trial 0 with value: 0.6235023474823428.\n",
      "Optuna Trials Progress:   2%|█                                                       | 1/50 [08:39<7:04:04, 519.27s/it]"
     ]
    },
    {
     "name": "stdout",
     "output_type": "stream",
     "text": [
      "Trial 0 completed - F1 Score: 0.6235, Best F1 Score: 0.6235\n",
      "Data contains negative values, switching to mutual_info_classif\n"
     ]
    },
    {
     "name": "stderr",
     "output_type": "stream",
     "text": [
      "[I 2024-11-09 00:16:14,275] Trial 1 finished with value: 0.6388731121585408 and parameters: {'k': 2500, 'method': 'chi2', 'n_estimators': 778, 'learning_rate': 0.09849944377720078, 'num_leaves': 81, 'max_depth': 13, 'min_child_samples': 41, 'min_child_weight': 0.012313138723784483, 'subsample': 0.971393047389842, 'colsample_bytree': 0.7559740050109527, 'lambda_l1': 0.04921963431788272, 'lambda_l2': 0.1454697035361137}. Best is trial 1 with value: 0.6388731121585408.\n",
      "Optuna Trials Progress:   4%|██▏                                                     | 2/50 [15:53<6:15:26, 469.30s/it]"
     ]
    },
    {
     "name": "stdout",
     "output_type": "stream",
     "text": [
      "Trial 1 completed - F1 Score: 0.6389, Best F1 Score: 0.6389\n"
     ]
    },
    {
     "name": "stderr",
     "output_type": "stream",
     "text": [
      "[I 2024-11-09 00:21:47,344] Trial 2 finished with value: 0.6349504748115119 and parameters: {'k': 500, 'method': 'mutual_info', 'n_estimators': 747, 'learning_rate': 0.034158171020010245, 'num_leaves': 65, 'max_depth': 20, 'min_child_samples': 41, 'min_child_weight': 0.0013289687413224754, 'subsample': 0.9841016783562776, 'colsample_bytree': 0.5011307455863958, 'lambda_l1': 0.17345465288074843, 'lambda_l2': 0.7731588572643261}. Best is trial 1 with value: 0.6388731121585408.\n",
      "Optuna Trials Progress:   6%|███▎                                                    | 3/50 [21:26<5:18:53, 407.09s/it]"
     ]
    },
    {
     "name": "stdout",
     "output_type": "stream",
     "text": [
      "Trial 2 completed - F1 Score: 0.6350, Best F1 Score: 0.6389\n",
      "Data contains negative values, switching to mutual_info_classif\n"
     ]
    },
    {
     "name": "stderr",
     "output_type": "stream",
     "text": [
      "[I 2024-11-09 00:27:23,404] Trial 3 finished with value: 0.6645184794395632 and parameters: {'k': 2000, 'method': 'chi2', 'n_estimators': 431, 'learning_rate': 0.0536215084884131, 'num_leaves': 28, 'max_depth': 9, 'min_child_samples': 23, 'min_child_weight': 0.0015402458314191078, 'subsample': 0.8763184288853227, 'colsample_bytree': 0.716580823198006, 'lambda_l1': 0.49965496855785124, 'lambda_l2': 0.012150113550378932}. Best is trial 3 with value: 0.6645184794395632.\n",
      "Optuna Trials Progress:   8%|████▍                                                   | 4/50 [27:02<4:50:36, 379.05s/it]"
     ]
    },
    {
     "name": "stdout",
     "output_type": "stream",
     "text": [
      "Trial 3 completed - F1 Score: 0.6645, Best F1 Score: 0.6645\n"
     ]
    },
    {
     "name": "stderr",
     "output_type": "stream",
     "text": [
      "[I 2024-11-09 00:31:36,016] Trial 4 finished with value: 0.6715103657668321 and parameters: {'k': 500, 'method': 'mutual_info', 'n_estimators': 156, 'learning_rate': 0.03986684817335969, 'num_leaves': 66, 'max_depth': 8, 'min_child_samples': 32, 'min_child_weight': 0.01593864316845239, 'subsample': 0.7822470285684844, 'colsample_bytree': 0.7018125791698697, 'lambda_l1': 0.05888211668867544, 'lambda_l2': 0.0033992662402508077}. Best is trial 4 with value: 0.6715103657668321.\n",
      "Optuna Trials Progress:  10%|█████▌                                                  | 5/50 [31:15<4:10:05, 333.46s/it]"
     ]
    },
    {
     "name": "stdout",
     "output_type": "stream",
     "text": [
      "Trial 4 completed - F1 Score: 0.6715, Best F1 Score: 0.6715\n",
      "Data contains negative values, switching to mutual_info_classif\n"
     ]
    },
    {
     "name": "stderr",
     "output_type": "stream",
     "text": [
      "[I 2024-11-09 00:38:37,307] Trial 5 finished with value: 0.6356735409325686 and parameters: {'k': 3000, 'method': 'chi2', 'n_estimators': 610, 'learning_rate': 0.0542364587691214, 'num_leaves': 100, 'max_depth': 14, 'min_child_samples': 46, 'min_child_weight': 0.04402146646529704, 'subsample': 0.6087363455809343, 'colsample_bytree': 0.5594503717423809, 'lambda_l1': 0.7009412543903374, 'lambda_l2': 0.5956970412873357}. Best is trial 4 with value: 0.6715103657668321.\n",
      "Optuna Trials Progress:  12%|██████▋                                                 | 6/50 [38:16<4:26:26, 363.32s/it]"
     ]
    },
    {
     "name": "stdout",
     "output_type": "stream",
     "text": [
      "Trial 5 completed - F1 Score: 0.6357, Best F1 Score: 0.6715\n"
     ]
    },
    {
     "name": "stderr",
     "output_type": "stream",
     "text": [
      "[I 2024-11-09 00:49:28,688] Trial 6 finished with value: 0.6219549811829174 and parameters: {'k': 4000, 'method': 'mutual_info', 'n_estimators': 530, 'learning_rate': 0.07331089059280722, 'num_leaves': 91, 'max_depth': 11, 'min_child_samples': 29, 'min_child_weight': 0.002501671791224599, 'subsample': 0.8669337888075992, 'colsample_bytree': 0.5164032770334324, 'lambda_l1': 0.005248738388270759, 'lambda_l2': 0.6184266612182531}. Best is trial 4 with value: 0.6715103657668321.\n",
      "Optuna Trials Progress:  14%|███████▊                                                | 7/50 [49:08<5:27:52, 457.49s/it]"
     ]
    },
    {
     "name": "stdout",
     "output_type": "stream",
     "text": [
      "Trial 6 completed - F1 Score: 0.6220, Best F1 Score: 0.6715\n",
      "Data contains negative values, switching to mutual_info_classif\n"
     ]
    },
    {
     "name": "stderr",
     "output_type": "stream",
     "text": [
      "[I 2024-11-09 00:57:53,688] Trial 7 finished with value: 0.6707802203405543 and parameters: {'k': 3000, 'method': 'chi2', 'n_estimators': 529, 'learning_rate': 0.037863905165411174, 'num_leaves': 30, 'max_depth': 10, 'min_child_samples': 50, 'min_child_weight': 0.0032469564611588243, 'subsample': 0.708325421182449, 'colsample_bytree': 0.9880528967862803, 'lambda_l1': 0.005467755211785072, 'lambda_l2': 0.8500971036391992}. Best is trial 4 with value: 0.6715103657668321.\n",
      "Optuna Trials Progress:  16%|████████▉                                               | 8/50 [57:33<5:30:49, 472.62s/it]"
     ]
    },
    {
     "name": "stdout",
     "output_type": "stream",
     "text": [
      "Trial 7 completed - F1 Score: 0.6708, Best F1 Score: 0.6715\n"
     ]
    },
    {
     "name": "stderr",
     "output_type": "stream",
     "text": [
      "[I 2024-11-09 01:03:05,656] Trial 8 finished with value: 0.6542518893311363 and parameters: {'k': 1000, 'method': 'mutual_info', 'n_estimators': 265, 'learning_rate': 0.06475293212586594, 'num_leaves': 97, 'max_depth': 8, 'min_child_samples': 30, 'min_child_weight': 0.0027426172075112544, 'subsample': 0.5450404367844313, 'colsample_bytree': 0.8476411231660823, 'lambda_l1': 0.5454463319154875, 'lambda_l2': 0.010112889095416739}. Best is trial 4 with value: 0.6715103657668321.\n",
      "Optuna Trials Progress:  18%|█████████▋                                            | 9/50 [1:02:44<4:48:38, 422.40s/it]"
     ]
    },
    {
     "name": "stdout",
     "output_type": "stream",
     "text": [
      "Trial 8 completed - F1 Score: 0.6543, Best F1 Score: 0.6715\n",
      "Data contains negative values, switching to mutual_info_classif\n"
     ]
    },
    {
     "name": "stderr",
     "output_type": "stream",
     "text": [
      "[I 2024-11-09 01:08:34,610] Trial 9 finished with value: 0.6785981923832853 and parameters: {'k': 2000, 'method': 'chi2', 'n_estimators': 577, 'learning_rate': 0.030911229866324802, 'num_leaves': 27, 'max_depth': 6, 'min_child_samples': 37, 'min_child_weight': 0.001226971697247327, 'subsample': 0.9769599746886701, 'colsample_bytree': 0.68470393266994, 'lambda_l1': 0.7981968843340821, 'lambda_l2': 0.00694286584658936}. Best is trial 9 with value: 0.6785981923832853.\n",
      "Optuna Trials Progress:  20%|██████████▌                                          | 10/50 [1:08:13<4:22:21, 393.55s/it]"
     ]
    },
    {
     "name": "stdout",
     "output_type": "stream",
     "text": [
      "Trial 9 completed - F1 Score: 0.6786, Best F1 Score: 0.6786\n",
      "Data contains negative values, switching to mutual_info_classif\n"
     ]
    },
    {
     "name": "stderr",
     "output_type": "stream",
     "text": [
      "[I 2024-11-09 01:14:23,408] Trial 10 finished with value: 0.679943999640126 and parameters: {'k': 1500, 'method': 'chi2', 'n_estimators': 947, 'learning_rate': 0.01577286783889854, 'num_leaves': 44, 'max_depth': 5, 'min_child_samples': 10, 'min_child_weight': 0.007277059364642142, 'subsample': 0.683996363122032, 'colsample_bytree': 0.8271557658639406, 'lambda_l1': 0.001026049745987376, 'lambda_l2': 0.0011779925731107844}. Best is trial 10 with value: 0.679943999640126.\n",
      "Optuna Trials Progress:  22%|███████████▋                                         | 11/50 [1:14:02<4:06:54, 379.85s/it]"
     ]
    },
    {
     "name": "stdout",
     "output_type": "stream",
     "text": [
      "Trial 10 completed - F1 Score: 0.6799, Best F1 Score: 0.6799\n",
      "Data contains negative values, switching to mutual_info_classif\n"
     ]
    },
    {
     "name": "stderr",
     "output_type": "stream",
     "text": [
      "[I 2024-11-09 01:20:16,502] Trial 11 finished with value: 0.6756428554818606 and parameters: {'k': 1500, 'method': 'chi2', 'n_estimators': 988, 'learning_rate': 0.016254640442826644, 'num_leaves': 43, 'max_depth': 5, 'min_child_samples': 11, 'min_child_weight': 0.0056174847535963, 'subsample': 0.6846787330410691, 'colsample_bytree': 0.8566408254074589, 'lambda_l1': 0.0011938167946807512, 'lambda_l2': 0.0011638015617297854}. Best is trial 10 with value: 0.679943999640126.\n",
      "Optuna Trials Progress:  24%|████████████▋                                        | 12/50 [1:19:55<3:55:25, 371.71s/it]"
     ]
    },
    {
     "name": "stdout",
     "output_type": "stream",
     "text": [
      "Trial 11 completed - F1 Score: 0.6756, Best F1 Score: 0.6799\n",
      "Data contains negative values, switching to mutual_info_classif\n"
     ]
    },
    {
     "name": "stderr",
     "output_type": "stream",
     "text": [
      "[I 2024-11-09 01:26:52,441] Trial 12 finished with value: 0.678301021476866 and parameters: {'k': 2000, 'method': 'chi2', 'n_estimators': 968, 'learning_rate': 0.017132813124089052, 'num_leaves': 48, 'max_depth': 5, 'min_child_samples': 10, 'min_child_weight': 0.006789526803632723, 'subsample': 0.5974447816351263, 'colsample_bytree': 0.8127225741119175, 'lambda_l1': 0.0010947690420178506, 'lambda_l2': 0.0010541851175190113}. Best is trial 10 with value: 0.679943999640126.\n",
      "Optuna Trials Progress:  26%|█████████████▊                                       | 13/50 [1:26:31<3:53:44, 379.05s/it]"
     ]
    },
    {
     "name": "stdout",
     "output_type": "stream",
     "text": [
      "Trial 12 completed - F1 Score: 0.6783, Best F1 Score: 0.6799\n",
      "Data contains negative values, switching to mutual_info_classif\n"
     ]
    },
    {
     "name": "stderr",
     "output_type": "stream",
     "text": [
      "[I 2024-11-09 01:34:41,481] Trial 13 finished with value: 0.6983529782815862 and parameters: {'k': 5000, 'method': 'chi2', 'n_estimators': 820, 'learning_rate': 0.010183235579285525, 'num_leaves': 21, 'max_depth': 5, 'min_child_samples': 17, 'min_child_weight': 0.027099125170458416, 'subsample': 0.6856996203818133, 'colsample_bytree': 0.6163067050211289, 'lambda_l1': 0.1824725483279566, 'lambda_l2': 0.05119971825214225}. Best is trial 13 with value: 0.6983529782815862.\n",
      "Optuna Trials Progress:  28%|██████████████▊                                      | 14/50 [1:34:20<4:03:44, 406.23s/it]"
     ]
    },
    {
     "name": "stdout",
     "output_type": "stream",
     "text": [
      "Trial 13 completed - F1 Score: 0.6984, Best F1 Score: 0.6984\n",
      "Data contains negative values, switching to mutual_info_classif\n"
     ]
    },
    {
     "name": "stderr",
     "output_type": "stream",
     "text": [
      "[I 2024-11-09 01:47:27,934] Trial 14 finished with value: 0.7001649224770166 and parameters: {'k': 5000, 'method': 'chi2', 'n_estimators': 825, 'learning_rate': 0.010131646440713127, 'num_leaves': 20, 'max_depth': 16, 'min_child_samples': 18, 'min_child_weight': 0.022835633748607285, 'subsample': 0.6635012554748161, 'colsample_bytree': 0.9903848575850792, 'lambda_l1': 0.16132514277328733, 'lambda_l2': 0.05527462600442084}. Best is trial 14 with value: 0.7001649224770166.\n",
      "Optuna Trials Progress:  30%|███████████████▉                                     | 15/50 [1:47:07<5:00:18, 514.81s/it]"
     ]
    },
    {
     "name": "stdout",
     "output_type": "stream",
     "text": [
      "Trial 14 completed - F1 Score: 0.7002, Best F1 Score: 0.7002\n",
      "Data contains negative values, switching to mutual_info_classif\n"
     ]
    },
    {
     "name": "stderr",
     "output_type": "stream",
     "text": [
      "[I 2024-11-09 02:00:15,821] Trial 15 finished with value: 0.6978986794180684 and parameters: {'k': 5000, 'method': 'chi2', 'n_estimators': 791, 'learning_rate': 0.010581345794844255, 'num_leaves': 21, 'max_depth': 16, 'min_child_samples': 19, 'min_child_weight': 0.025971086510508154, 'subsample': 0.625853287145187, 'colsample_bytree': 0.9980257160979499, 'lambda_l1': 0.17230751726742707, 'lambda_l2': 0.06940623033308055}. Best is trial 14 with value: 0.7001649224770166.\n",
      "Optuna Trials Progress:  32%|████████████████▉                                    | 16/50 [1:59:55<5:34:53, 590.99s/it]"
     ]
    },
    {
     "name": "stdout",
     "output_type": "stream",
     "text": [
      "Trial 15 completed - F1 Score: 0.6979, Best F1 Score: 0.7002\n",
      "Data contains negative values, switching to mutual_info_classif\n"
     ]
    },
    {
     "name": "stderr",
     "output_type": "stream",
     "text": [
      "[I 2024-11-09 02:15:13,423] Trial 16 finished with value: 0.6725663973129259 and parameters: {'k': 5000, 'method': 'chi2', 'n_estimators': 842, 'learning_rate': 0.01313060795042486, 'num_leaves': 37, 'max_depth': 18, 'min_child_samples': 18, 'min_child_weight': 0.023253724962008063, 'subsample': 0.7402655435340252, 'colsample_bytree': 0.6096060253869919, 'lambda_l1': 0.16110086500412385, 'lambda_l2': 0.03766099134484302}. Best is trial 14 with value: 0.7001649224770166.\n",
      "Optuna Trials Progress:  34%|██████████████████                                   | 17/50 [2:14:52<6:15:45, 683.19s/it]"
     ]
    },
    {
     "name": "stdout",
     "output_type": "stream",
     "text": [
      "Trial 16 completed - F1 Score: 0.6726, Best F1 Score: 0.7002\n",
      "Data contains negative values, switching to mutual_info_classif\n"
     ]
    },
    {
     "name": "stderr",
     "output_type": "stream",
     "text": [
      "[I 2024-11-09 02:35:00,917] Trial 17 finished with value: 0.6493134697032221 and parameters: {'k': 4500, 'method': 'chi2', 'n_estimators': 699, 'learning_rate': 0.022991893148314794, 'num_leaves': 54, 'max_depth': 15, 'min_child_samples': 17, 'min_child_weight': 0.05330634482282394, 'subsample': 0.5126954145859455, 'colsample_bytree': 0.9212697510290253, 'lambda_l1': 0.10526454041913386, 'lambda_l2': 0.17190572065080484}. Best is trial 14 with value: 0.7001649224770166.\n",
      "Optuna Trials Progress:  36%|███████████████████                                  | 18/50 [2:34:40<7:25:11, 834.73s/it]"
     ]
    },
    {
     "name": "stdout",
     "output_type": "stream",
     "text": [
      "Trial 17 completed - F1 Score: 0.6493, Best F1 Score: 0.7002\n",
      "Data contains negative values, switching to mutual_info_classif\n"
     ]
    },
    {
     "name": "stderr",
     "output_type": "stream",
     "text": [
      "[I 2024-11-09 02:44:23,859] Trial 18 finished with value: 0.6982218055746815 and parameters: {'k': 4000, 'method': 'chi2', 'n_estimators': 873, 'learning_rate': 0.010999622677976526, 'num_leaves': 22, 'max_depth': 17, 'min_child_samples': 25, 'min_child_weight': 0.030624798118370898, 'subsample': 0.6427337819761698, 'colsample_bytree': 0.6204060404185878, 'lambda_l1': 0.01771693230685754, 'lambda_l2': 0.02916870823089359}. Best is trial 14 with value: 0.7001649224770166.\n",
      "Optuna Trials Progress:  38%|████████████████████▏                                | 19/50 [2:44:03<6:29:06, 753.10s/it]"
     ]
    },
    {
     "name": "stdout",
     "output_type": "stream",
     "text": [
      "Trial 18 completed - F1 Score: 0.6982, Best F1 Score: 0.7002\n",
      "Data contains negative values, switching to mutual_info_classif\n"
     ]
    },
    {
     "name": "stderr",
     "output_type": "stream",
     "text": [
      "[I 2024-11-09 02:54:40,655] Trial 19 finished with value: 0.675259248699437 and parameters: {'k': 4500, 'method': 'chi2', 'n_estimators': 457, 'learning_rate': 0.023125081736810937, 'num_leaves': 37, 'max_depth': 12, 'min_child_samples': 15, 'min_child_weight': 0.0164755319161435, 'subsample': 0.7792707514330273, 'colsample_bytree': 0.7689094939099113, 'lambda_l1': 0.3549890899925461, 'lambda_l2': 0.18111350266370133}. Best is trial 14 with value: 0.7001649224770166.\n",
      "Optuna Trials Progress:  40%|█████████████████████▏                               | 20/50 [2:54:19<5:56:05, 712.17s/it]"
     ]
    },
    {
     "name": "stdout",
     "output_type": "stream",
     "text": [
      "Trial 19 completed - F1 Score: 0.6753, Best F1 Score: 0.7002\n",
      "Data contains negative values, switching to mutual_info_classif\n"
     ]
    },
    {
     "name": "stderr",
     "output_type": "stream",
     "text": [
      "[I 2024-11-09 03:16:42,173] Trial 20 finished with value: 0.6400477672993913 and parameters: {'k': 4500, 'method': 'chi2', 'n_estimators': 883, 'learning_rate': 0.02357323353619814, 'num_leaves': 79, 'max_depth': 19, 'min_child_samples': 23, 'min_child_weight': 0.08124899778715115, 'subsample': 0.7347873452247844, 'colsample_bytree': 0.9251632143946606, 'lambda_l1': 0.2917063526089418, 'lambda_l2': 0.02600706963620178}. Best is trial 14 with value: 0.7001649224770166.\n",
      "Optuna Trials Progress:  42%|██████████████████████▎                              | 21/50 [3:16:21<7:12:37, 895.08s/it]"
     ]
    },
    {
     "name": "stdout",
     "output_type": "stream",
     "text": [
      "Trial 20 completed - F1 Score: 0.6400, Best F1 Score: 0.7002\n",
      "Data contains negative values, switching to mutual_info_classif\n"
     ]
    },
    {
     "name": "stderr",
     "output_type": "stream",
     "text": [
      "[I 2024-11-09 03:26:14,114] Trial 21 finished with value: 0.6970400646605142 and parameters: {'k': 4000, 'method': 'chi2', 'n_estimators': 867, 'learning_rate': 0.010714825622239823, 'num_leaves': 21, 'max_depth': 17, 'min_child_samples': 22, 'min_child_weight': 0.03285441277563135, 'subsample': 0.6448513033806181, 'colsample_bytree': 0.6271077047340818, 'lambda_l1': 0.02253117453027686, 'lambda_l2': 0.06370029484356125}. Best is trial 14 with value: 0.7001649224770166.\n",
      "Optuna Trials Progress:  44%|███████████████████████▎                             | 22/50 [3:25:53<6:12:26, 798.10s/it]"
     ]
    },
    {
     "name": "stdout",
     "output_type": "stream",
     "text": [
      "Trial 21 completed - F1 Score: 0.6970, Best F1 Score: 0.7002\n",
      "Data contains negative values, switching to mutual_info_classif\n"
     ]
    },
    {
     "name": "stderr",
     "output_type": "stream",
     "text": [
      "[I 2024-11-09 03:38:13,909] Trial 22 finished with value: 0.6861677912804366 and parameters: {'k': 5000, 'method': 'chi2', 'n_estimators': 709, 'learning_rate': 0.01240834157541727, 'num_leaves': 34, 'max_depth': 16, 'min_child_samples': 26, 'min_child_weight': 0.04381053115834528, 'subsample': 0.5628524512927825, 'colsample_bytree': 0.6043065288676716, 'lambda_l1': 0.007508486601910011, 'lambda_l2': 0.022155182771081028}. Best is trial 14 with value: 0.7001649224770166.\n",
      "Optuna Trials Progress:  46%|████████████████████████▍                            | 23/50 [3:37:53<5:48:34, 774.60s/it]"
     ]
    },
    {
     "name": "stdout",
     "output_type": "stream",
     "text": [
      "Trial 22 completed - F1 Score: 0.6862, Best F1 Score: 0.7002\n",
      "Data contains negative values, switching to mutual_info_classif\n"
     ]
    },
    {
     "name": "stderr",
     "output_type": "stream",
     "text": [
      "[I 2024-11-09 03:47:43,036] Trial 23 finished with value: 0.6933621495888218 and parameters: {'k': 4000, 'method': 'chi2', 'n_estimators': 885, 'learning_rate': 0.01313052129076421, 'num_leaves': 21, 'max_depth': 18, 'min_child_samples': 14, 'min_child_weight': 0.021978731791736733, 'subsample': 0.6621244769490866, 'colsample_bytree': 0.6318554442191525, 'lambda_l1': 0.01160840385713188, 'lambda_l2': 0.0931379463492358}. Best is trial 14 with value: 0.7001649224770166.\n",
      "Optuna Trials Progress:  48%|█████████████████████████▍                           | 24/50 [3:47:22<5:08:56, 712.95s/it]"
     ]
    },
    {
     "name": "stdout",
     "output_type": "stream",
     "text": [
      "Trial 23 completed - F1 Score: 0.6934, Best F1 Score: 0.7002\n",
      "Data contains negative values, switching to mutual_info_classif\n"
     ]
    },
    {
     "name": "stderr",
     "output_type": "stream",
     "text": [
      "[I 2024-11-09 03:55:55,134] Trial 24 finished with value: 0.6972775200863893 and parameters: {'k': 3500, 'method': 'chi2', 'n_estimators': 664, 'learning_rate': 0.01025046635915053, 'num_leaves': 29, 'max_depth': 14, 'min_child_samples': 21, 'min_child_weight': 0.01053141695905916, 'subsample': 0.5778056135509324, 'colsample_bytree': 0.5518968809538352, 'lambda_l1': 0.05657174084808934, 'lambda_l2': 0.040194332750961785}. Best is trial 14 with value: 0.7001649224770166.\n",
      "Optuna Trials Progress:  50%|██████████████████████████▌                          | 25/50 [3:55:34<4:29:27, 646.68s/it]"
     ]
    },
    {
     "name": "stdout",
     "output_type": "stream",
     "text": [
      "Trial 24 completed - F1 Score: 0.6973, Best F1 Score: 0.7002\n",
      "Data contains negative values, switching to mutual_info_classif\n"
     ]
    },
    {
     "name": "stderr",
     "output_type": "stream",
     "text": [
      "[I 2024-11-09 04:05:01,409] Trial 25 finished with value: 0.6817443789127808 and parameters: {'k': 4500, 'method': 'chi2', 'n_estimators': 811, 'learning_rate': 0.01915236423110352, 'num_leaves': 21, 'max_depth': 20, 'min_child_samples': 16, 'min_child_weight': 0.03319995673680757, 'subsample': 0.6489569761162599, 'colsample_bytree': 0.5773453907936382, 'lambda_l1': 0.09597146616746188, 'lambda_l2': 0.017132864135275504}. Best is trial 14 with value: 0.7001649224770166.\n",
      "Optuna Trials Progress:  52%|███████████████████████████▌                         | 26/50 [4:04:40<4:06:37, 616.56s/it]"
     ]
    },
    {
     "name": "stdout",
     "output_type": "stream",
     "text": [
      "Trial 25 completed - F1 Score: 0.6817, Best F1 Score: 0.7002\n"
     ]
    },
    {
     "name": "stderr",
     "output_type": "stream",
     "text": [
      "[I 2024-11-09 04:25:41,399] Trial 26 finished with value: 0.6514386466622276 and parameters: {'k': 5000, 'method': 'mutual_info', 'n_estimators': 915, 'learning_rate': 0.013359518006329856, 'num_leaves': 53, 'max_depth': 16, 'min_child_samples': 26, 'min_child_weight': 0.015875021726395534, 'subsample': 0.7088622496054039, 'colsample_bytree': 0.6690811427345249, 'lambda_l1': 0.036407725822951785, 'lambda_l2': 0.24088000055989}. Best is trial 14 with value: 0.7001649224770166.\n",
      "Optuna Trials Progress:  54%|████████████████████████████▌                        | 27/50 [4:25:20<5:08:02, 803.60s/it]"
     ]
    },
    {
     "name": "stdout",
     "output_type": "stream",
     "text": [
      "Trial 26 completed - F1 Score: 0.6514, Best F1 Score: 0.7002\n",
      "Data contains negative values, switching to mutual_info_classif\n"
     ]
    },
    {
     "name": "stderr",
     "output_type": "stream",
     "text": [
      "[I 2024-11-09 04:38:44,318] Trial 27 finished with value: 0.6679004432672967 and parameters: {'k': 4000, 'method': 'chi2', 'n_estimators': 757, 'learning_rate': 0.01940545991273601, 'num_leaves': 33, 'max_depth': 18, 'min_child_samples': 35, 'min_child_weight': 0.0655563887565127, 'subsample': 0.5215847746051075, 'colsample_bytree': 0.9401402116089065, 'lambda_l1': 0.003124359574553715, 'lambda_l2': 0.04875664616286717}. Best is trial 14 with value: 0.7001649224770166.\n",
      "Optuna Trials Progress:  56%|█████████████████████████████▋                       | 28/50 [4:38:23<4:52:22, 797.40s/it]"
     ]
    },
    {
     "name": "stdout",
     "output_type": "stream",
     "text": [
      "Trial 27 completed - F1 Score: 0.6679, Best F1 Score: 0.7002\n",
      "Data contains negative values, switching to mutual_info_classif\n"
     ]
    },
    {
     "name": "stderr",
     "output_type": "stream",
     "text": [
      "[I 2024-11-09 04:56:42,528] Trial 28 finished with value: 0.6690052279032539 and parameters: {'k': 4500, 'method': 'chi2', 'n_estimators': 990, 'learning_rate': 0.011912182339568849, 'num_leaves': 41, 'max_depth': 14, 'min_child_samples': 26, 'min_child_weight': 0.0348352880535964, 'subsample': 0.7778003235095833, 'colsample_bytree': 0.730752743277788, 'lambda_l1': 0.10218705324252138, 'lambda_l2': 0.09902381579224875}. Best is trial 14 with value: 0.7001649224770166.\n",
      "Optuna Trials Progress:  58%|██████████████████████████████▋                      | 29/50 [4:56:21<5:08:34, 881.64s/it]"
     ]
    },
    {
     "name": "stdout",
     "output_type": "stream",
     "text": [
      "Trial 28 completed - F1 Score: 0.6690, Best F1 Score: 0.7002\n"
     ]
    },
    {
     "name": "stderr",
     "output_type": "stream",
     "text": [
      "[I 2024-11-09 05:05:22,394] Trial 29 finished with value: 0.6897992364115403 and parameters: {'k': 3500, 'method': 'mutual_info', 'n_estimators': 680, 'learning_rate': 0.014654421390742349, 'num_leaves': 26, 'max_depth': 12, 'min_child_samples': 13, 'min_child_weight': 0.0888399091958248, 'subsample': 0.8036120159736874, 'colsample_bytree': 0.6636401491002956, 'lambda_l1': 0.015904383380494828, 'lambda_l2': 0.005209892874757266}. Best is trial 14 with value: 0.7001649224770166.\n",
      "Optuna Trials Progress:  60%|███████████████████████████████▊                     | 30/50 [5:05:01<4:17:42, 773.11s/it]"
     ]
    },
    {
     "name": "stdout",
     "output_type": "stream",
     "text": [
      "Trial 29 completed - F1 Score: 0.6898, Best F1 Score: 0.7002\n",
      "Data contains negative values, switching to mutual_info_classif\n"
     ]
    },
    {
     "name": "stderr",
     "output_type": "stream",
     "text": [
      "[I 2024-11-09 05:13:07,325] Trial 30 finished with value: 0.6945871799794533 and parameters: {'k': 5000, 'method': 'chi2', 'n_estimators': 398, 'learning_rate': 0.010869383870873103, 'num_leaves': 26, 'max_depth': 7, 'min_child_samples': 19, 'min_child_weight': 0.0560525837753051, 'subsample': 0.8462113345121274, 'colsample_bytree': 0.7898953595865762, 'lambda_l1': 0.025023126670856093, 'lambda_l2': 0.017078653826955236}. Best is trial 14 with value: 0.7001649224770166.\n",
      "Optuna Trials Progress:  62%|████████████████████████████████▊                    | 31/50 [5:12:46<3:35:32, 680.65s/it]"
     ]
    },
    {
     "name": "stdout",
     "output_type": "stream",
     "text": [
      "Trial 30 completed - F1 Score: 0.6946, Best F1 Score: 0.7002\n",
      "Data contains negative values, switching to mutual_info_classif\n"
     ]
    },
    {
     "name": "stderr",
     "output_type": "stream",
     "text": [
      "[I 2024-11-09 05:25:22,511] Trial 31 finished with value: 0.6946233856708292 and parameters: {'k': 5000, 'method': 'chi2', 'n_estimators': 812, 'learning_rate': 0.010343724894521405, 'num_leaves': 20, 'max_depth': 16, 'min_child_samples': 20, 'min_child_weight': 0.01906166860484486, 'subsample': 0.6211051426041365, 'colsample_bytree': 0.9720906240667817, 'lambda_l1': 0.2823416099727132, 'lambda_l2': 0.07440224903814252}. Best is trial 14 with value: 0.7001649224770166.\n",
      "Optuna Trials Progress:  64%|█████████████████████████████████▉                   | 32/50 [5:25:01<3:29:06, 697.01s/it]"
     ]
    },
    {
     "name": "stdout",
     "output_type": "stream",
     "text": [
      "Trial 31 completed - F1 Score: 0.6946, Best F1 Score: 0.7002\n",
      "Data contains negative values, switching to mutual_info_classif\n"
     ]
    },
    {
     "name": "stderr",
     "output_type": "stream",
     "text": [
      "[I 2024-11-09 05:39:21,252] Trial 32 finished with value: 0.6902992301066835 and parameters: {'k': 5000, 'method': 'chi2', 'n_estimators': 777, 'learning_rate': 0.011879518971010415, 'num_leaves': 25, 'max_depth': 17, 'min_child_samples': 24, 'min_child_weight': 0.029027562315866794, 'subsample': 0.6272684645593155, 'colsample_bytree': 0.9951410942085699, 'lambda_l1': 0.18177502869272483, 'lambda_l2': 0.4002989996285582}. Best is trial 14 with value: 0.7001649224770166.\n",
      "Optuna Trials Progress:  66%|██████████████████████████████████▉                  | 33/50 [5:39:00<3:29:32, 739.53s/it]"
     ]
    },
    {
     "name": "stdout",
     "output_type": "stream",
     "text": [
      "Trial 32 completed - F1 Score: 0.6903, Best F1 Score: 0.7002\n",
      "Data contains negative values, switching to mutual_info_classif\n"
     ]
    },
    {
     "name": "stderr",
     "output_type": "stream",
     "text": [
      "[I 2024-11-09 05:55:05,121] Trial 33 finished with value: 0.6869669395882917 and parameters: {'k': 4500, 'method': 'chi2', 'n_estimators': 816, 'learning_rate': 0.010140570365677622, 'num_leaves': 33, 'max_depth': 17, 'min_child_samples': 17, 'min_child_weight': 0.02560437039059345, 'subsample': 0.6696467896061185, 'colsample_bytree': 0.9024725858922235, 'lambda_l1': 0.04177419222745204, 'lambda_l2': 0.05015976351596896}. Best is trial 14 with value: 0.7001649224770166.\n",
      "Optuna Trials Progress:  68%|████████████████████████████████████                 | 34/50 [5:54:44<3:33:33, 800.83s/it]"
     ]
    },
    {
     "name": "stdout",
     "output_type": "stream",
     "text": [
      "Trial 33 completed - F1 Score: 0.6870, Best F1 Score: 0.7002\n",
      "Data contains negative values, switching to mutual_info_classif\n"
     ]
    },
    {
     "name": "stderr",
     "output_type": "stream",
     "text": [
      "[I 2024-11-09 06:06:42,015] Trial 34 finished with value: 0.6904467684406882 and parameters: {'k': 3500, 'method': 'chi2', 'n_estimators': 912, 'learning_rate': 0.013860124207377087, 'num_leaves': 23, 'max_depth': 15, 'min_child_samples': 13, 'min_child_weight': 0.01143862364422078, 'subsample': 0.7112237601601473, 'colsample_bytree': 0.9548731307179379, 'lambda_l1': 0.07692400174729012, 'lambda_l2': 0.11917740446512033}. Best is trial 14 with value: 0.7001649224770166.\n",
      "Optuna Trials Progress:  70%|█████████████████████████████████████                | 35/50 [6:06:21<3:12:24, 769.65s/it]"
     ]
    },
    {
     "name": "stdout",
     "output_type": "stream",
     "text": [
      "Trial 34 completed - F1 Score: 0.6904, Best F1 Score: 0.7002\n",
      "Data contains negative values, switching to mutual_info_classif\n"
     ]
    },
    {
     "name": "stderr",
     "output_type": "stream",
     "text": [
      "[I 2024-11-09 06:24:38,301] Trial 35 finished with value: 0.6531631612401383 and parameters: {'k': 4000, 'method': 'chi2', 'n_estimators': 736, 'learning_rate': 0.011656759451785329, 'num_leaves': 74, 'max_depth': 13, 'min_child_samples': 19, 'min_child_weight': 0.013774503444858404, 'subsample': 0.6359560994745858, 'colsample_bytree': 0.6498653499361856, 'lambda_l1': 0.16625471645408518, 'lambda_l2': 0.02828863583361207}. Best is trial 14 with value: 0.7001649224770166.\n",
      "Optuna Trials Progress:  72%|██████████████████████████████████████▏              | 36/50 [6:24:17<3:21:02, 861.64s/it]"
     ]
    },
    {
     "name": "stdout",
     "output_type": "stream",
     "text": [
      "Trial 35 completed - F1 Score: 0.6532, Best F1 Score: 0.7002\n"
     ]
    },
    {
     "name": "stderr",
     "output_type": "stream",
     "text": [
      "[I 2024-11-09 06:38:46,947] Trial 36 finished with value: 0.6704786397146423 and parameters: {'k': 5000, 'method': 'mutual_info', 'n_estimators': 610, 'learning_rate': 0.018083825962850467, 'num_leaves': 37, 'max_depth': 19, 'min_child_samples': 25, 'min_child_weight': 0.04004397564726283, 'subsample': 0.5959706770720533, 'colsample_bytree': 0.8901575908785717, 'lambda_l1': 0.22644358347027155, 'lambda_l2': 0.2844179744154226}. Best is trial 14 with value: 0.7001649224770166.\n",
      "Optuna Trials Progress:  74%|███████████████████████████████████████▏             | 37/50 [6:38:26<3:05:50, 857.74s/it]"
     ]
    },
    {
     "name": "stdout",
     "output_type": "stream",
     "text": [
      "Trial 36 completed - F1 Score: 0.6705, Best F1 Score: 0.7002\n",
      "Data contains negative values, switching to mutual_info_classif\n"
     ]
    },
    {
     "name": "stderr",
     "output_type": "stream",
     "text": [
      "[I 2024-11-09 06:48:54,605] Trial 37 finished with value: 0.6816486735361683 and parameters: {'k': 4500, 'method': 'chi2', 'n_estimators': 779, 'learning_rate': 0.014401624266039924, 'num_leaves': 30, 'max_depth': 15, 'min_child_samples': 29, 'min_child_weight': 0.02024327221590036, 'subsample': 0.5674937289640749, 'colsample_bytree': 0.5254642104869957, 'lambda_l1': 0.46186907295047025, 'lambda_l2': 0.06664199212952247}. Best is trial 14 with value: 0.7001649224770166.\n",
      "Optuna Trials Progress:  76%|████████████████████████████████████████▎            | 38/50 [6:48:33<2:36:32, 782.72s/it]"
     ]
    },
    {
     "name": "stdout",
     "output_type": "stream",
     "text": [
      "Trial 37 completed - F1 Score: 0.6816, Best F1 Score: 0.7002\n",
      "Data contains negative values, switching to mutual_info_classif\n"
     ]
    },
    {
     "name": "stderr",
     "output_type": "stream",
     "text": [
      "[I 2024-11-09 07:02:36,872] Trial 38 finished with value: 0.643648776802693 and parameters: {'k': 3000, 'method': 'chi2', 'n_estimators': 928, 'learning_rate': 0.020795205359595656, 'num_leaves': 61, 'max_depth': 11, 'min_child_samples': 21, 'min_child_weight': 0.06238771418816673, 'subsample': 0.9059378496029925, 'colsample_bytree': 0.5837274757550602, 'lambda_l1': 0.12216897721640527, 'lambda_l2': 0.016774583977245107}. Best is trial 14 with value: 0.7001649224770166.\n",
      "Optuna Trials Progress:  78%|█████████████████████████████████████████▎           | 39/50 [7:02:16<2:25:40, 794.58s/it]"
     ]
    },
    {
     "name": "stdout",
     "output_type": "stream",
     "text": [
      "Trial 38 completed - F1 Score: 0.6436, Best F1 Score: 0.7002\n"
     ]
    },
    {
     "name": "stderr",
     "output_type": "stream",
     "text": [
      "[I 2024-11-09 07:11:36,472] Trial 39 finished with value: 0.6659850182329032 and parameters: {'k': 3500, 'method': 'mutual_info', 'n_estimators': 656, 'learning_rate': 0.03080112510196184, 'num_leaves': 31, 'max_depth': 10, 'min_child_samples': 32, 'min_child_weight': 0.00813661150475623, 'subsample': 0.6926952216018916, 'colsample_bytree': 0.6979727207322979, 'lambda_l1': 0.07658417805622386, 'lambda_l2': 0.13466858285472927}. Best is trial 14 with value: 0.7001649224770166.\n",
      "Optuna Trials Progress:  80%|██████████████████████████████████████████▍          | 40/50 [7:11:15<1:59:40, 718.09s/it]"
     ]
    },
    {
     "name": "stdout",
     "output_type": "stream",
     "text": [
      "Trial 39 completed - F1 Score: 0.6660, Best F1 Score: 0.7002\n",
      "Data contains negative values, switching to mutual_info_classif\n"
     ]
    },
    {
     "name": "stderr",
     "output_type": "stream",
     "text": [
      "[I 2024-11-09 07:39:13,672] Trial 40 finished with value: 0.6322308508322149 and parameters: {'k': 5000, 'method': 'chi2', 'n_estimators': 851, 'learning_rate': 0.015782598198865253, 'num_leaves': 87, 'max_depth': 19, 'min_child_samples': 28, 'min_child_weight': 0.0276599162723646, 'subsample': 0.7519489644972677, 'colsample_bytree': 0.7451350270842187, 'lambda_l1': 0.011621850033540706, 'lambda_l2': 0.0100141877285638}. Best is trial 14 with value: 0.7001649224770166.\n",
      "Optuna Trials Progress:  82%|███████████████████████████████████████████▍         | 41/50 [7:38:52<2:29:58, 999.82s/it]"
     ]
    },
    {
     "name": "stdout",
     "output_type": "stream",
     "text": [
      "Trial 40 completed - F1 Score: 0.6322, Best F1 Score: 0.7002\n",
      "Data contains negative values, switching to mutual_info_classif\n"
     ]
    },
    {
     "name": "stderr",
     "output_type": "stream",
     "text": [
      "[I 2024-11-09 07:46:40,175] Trial 41 finished with value: 0.6971941887952223 and parameters: {'k': 3500, 'method': 'chi2', 'n_estimators': 642, 'learning_rate': 0.010412416672602403, 'num_leaves': 25, 'max_depth': 14, 'min_child_samples': 22, 'min_child_weight': 0.009912894684146986, 'subsample': 0.5741275903938494, 'colsample_bytree': 0.5488216507891006, 'lambda_l1': 0.05883633631116622, 'lambda_l2': 0.03720670283551231}. Best is trial 14 with value: 0.7001649224770166.\n",
      "Optuna Trials Progress:  84%|████████████████████████████████████████████▌        | 42/50 [7:46:19<1:51:10, 833.83s/it]"
     ]
    },
    {
     "name": "stdout",
     "output_type": "stream",
     "text": [
      "Trial 41 completed - F1 Score: 0.6972, Best F1 Score: 0.7002\n",
      "Data contains negative values, switching to mutual_info_classif\n"
     ]
    },
    {
     "name": "stderr",
     "output_type": "stream",
     "text": [
      "[I 2024-11-09 07:53:49,337] Trial 42 finished with value: 0.6950404325218367 and parameters: {'k': 2500, 'method': 'chi2', 'n_estimators': 725, 'learning_rate': 0.011285075244233712, 'num_leaves': 28, 'max_depth': 13, 'min_child_samples': 20, 'min_child_weight': 0.00551685583848621, 'subsample': 0.6024880376553918, 'colsample_bytree': 0.5401778381509712, 'lambda_l1': 0.0493425563169085, 'lambda_l2': 0.04013215712061319}. Best is trial 14 with value: 0.7001649224770166.\n",
      "Optuna Trials Progress:  86%|█████████████████████████████████████████████▌       | 43/50 [7:53:28<1:23:06, 712.43s/it]"
     ]
    },
    {
     "name": "stdout",
     "output_type": "stream",
     "text": [
      "Trial 42 completed - F1 Score: 0.6950, Best F1 Score: 0.7002\n",
      "Data contains negative values, switching to mutual_info_classif\n"
     ]
    },
    {
     "name": "stderr",
     "output_type": "stream",
     "text": [
      "[I 2024-11-09 08:02:56,735] Trial 43 finished with value: 0.6976204984887215 and parameters: {'k': 4000, 'method': 'chi2', 'n_estimators': 784, 'learning_rate': 0.0100669603276488, 'num_leaves': 24, 'max_depth': 15, 'min_child_samples': 16, 'min_child_weight': 0.012461721675270307, 'subsample': 0.5358641577301217, 'colsample_bytree': 0.5048948280662204, 'lambda_l1': 0.9571120770254014, 'lambda_l2': 0.054457001201312215}. Best is trial 14 with value: 0.7001649224770166.\n",
      "Optuna Trials Progress:  88%|██████████████████████████████████████████████▋      | 44/50 [8:02:36<1:06:17, 662.92s/it]"
     ]
    },
    {
     "name": "stdout",
     "output_type": "stream",
     "text": [
      "Trial 43 completed - F1 Score: 0.6976, Best F1 Score: 0.7002\n",
      "Data contains negative values, switching to mutual_info_classif\n"
     ]
    },
    {
     "name": "stderr",
     "output_type": "stream",
     "text": [
      "[W 2024-11-09 08:06:26,352] Trial 44 failed with parameters: {'k': 4000, 'method': 'chi2'} because of the following error: KeyboardInterrupt().\n",
      "Traceback (most recent call last):\n",
      "  File \"D:\\miniCondaa\\envs\\gpu_kaggle1IFT3395\\lib\\site-packages\\optuna\\study\\_optimize.py\", line 197, in _run_trial\n",
      "    value_or_values = func(trial)\n",
      "  File \"C:\\Users\\emi_r\\AppData\\Local\\Temp\\ipykernel_4648\\1199570481.py\", line 63, in <lambda>\n",
      "    study.optimize(lambda trial: objective(trial, X, y), n_trials=n_trials, callbacks=[callback])\n",
      "  File \"C:\\Users\\emi_r\\AppData\\Local\\Temp\\ipykernel_4648\\1199570481.py\", line 25, in objective\n",
      "    X_reduced = selector.fit_transform(X, y)\n",
      "  File \"D:\\miniCondaa\\envs\\gpu_kaggle1IFT3395\\lib\\site-packages\\sklearn\\utils\\_set_output.py\", line 316, in wrapped\n",
      "    data_to_wrap = f(self, X, *args, **kwargs)\n",
      "  File \"D:\\miniCondaa\\envs\\gpu_kaggle1IFT3395\\lib\\site-packages\\sklearn\\base.py\", line 1101, in fit_transform\n",
      "    return self.fit(X, y, **fit_params).transform(X)\n",
      "  File \"D:\\miniCondaa\\envs\\gpu_kaggle1IFT3395\\lib\\site-packages\\sklearn\\base.py\", line 1473, in wrapper\n",
      "    return fit_method(estimator, *args, **kwargs)\n",
      "  File \"D:\\miniCondaa\\envs\\gpu_kaggle1IFT3395\\lib\\site-packages\\sklearn\\feature_selection\\_univariate_selection.py\", line 567, in fit\n",
      "    score_func_ret = self.score_func(X, y)\n",
      "  File \"D:\\miniCondaa\\envs\\gpu_kaggle1IFT3395\\lib\\site-packages\\sklearn\\utils\\_param_validation.py\", line 186, in wrapper\n",
      "    return func(*args, **kwargs)\n",
      "  File \"D:\\miniCondaa\\envs\\gpu_kaggle1IFT3395\\lib\\site-packages\\sklearn\\feature_selection\\_mutual_info.py\", line 571, in mutual_info_classif\n",
      "    return _estimate_mi(\n",
      "  File \"D:\\miniCondaa\\envs\\gpu_kaggle1IFT3395\\lib\\site-packages\\sklearn\\feature_selection\\_mutual_info.py\", line 317, in _estimate_mi\n",
      "    mi = Parallel(n_jobs=n_jobs)(\n",
      "  File \"D:\\miniCondaa\\envs\\gpu_kaggle1IFT3395\\lib\\site-packages\\sklearn\\utils\\parallel.py\", line 74, in __call__\n",
      "    return super().__call__(iterable_with_config)\n",
      "  File \"D:\\miniCondaa\\envs\\gpu_kaggle1IFT3395\\lib\\site-packages\\joblib\\parallel.py\", line 1918, in __call__\n",
      "    return output if self.return_generator else list(output)\n",
      "  File \"D:\\miniCondaa\\envs\\gpu_kaggle1IFT3395\\lib\\site-packages\\joblib\\parallel.py\", line 1847, in _get_sequential_output\n",
      "    res = func(*args, **kwargs)\n",
      "  File \"D:\\miniCondaa\\envs\\gpu_kaggle1IFT3395\\lib\\site-packages\\sklearn\\utils\\parallel.py\", line 136, in __call__\n",
      "    return self.function(*args, **kwargs)\n",
      "  File \"D:\\miniCondaa\\envs\\gpu_kaggle1IFT3395\\lib\\site-packages\\sklearn\\feature_selection\\_mutual_info.py\", line 167, in _compute_mi\n",
      "    return _compute_mi_cd(x, y, n_neighbors)\n",
      "  File \"D:\\miniCondaa\\envs\\gpu_kaggle1IFT3395\\lib\\site-packages\\sklearn\\feature_selection\\_mutual_info.py\", line 129, in _compute_mi_cd\n",
      "    r = nn.kneighbors()[0]\n",
      "  File \"D:\\miniCondaa\\envs\\gpu_kaggle1IFT3395\\lib\\site-packages\\sklearn\\neighbors\\_base.py\", line 903, in kneighbors\n",
      "    chunked_results = Parallel(n_jobs, prefer=\"threads\")(\n",
      "  File \"D:\\miniCondaa\\envs\\gpu_kaggle1IFT3395\\lib\\site-packages\\sklearn\\utils\\parallel.py\", line 74, in __call__\n",
      "    return super().__call__(iterable_with_config)\n",
      "  File \"D:\\miniCondaa\\envs\\gpu_kaggle1IFT3395\\lib\\site-packages\\joblib\\parallel.py\", line 1918, in __call__\n",
      "    return output if self.return_generator else list(output)\n",
      "  File \"D:\\miniCondaa\\envs\\gpu_kaggle1IFT3395\\lib\\site-packages\\joblib\\parallel.py\", line 1847, in _get_sequential_output\n",
      "    res = func(*args, **kwargs)\n",
      "  File \"D:\\miniCondaa\\envs\\gpu_kaggle1IFT3395\\lib\\site-packages\\sklearn\\utils\\parallel.py\", line 136, in __call__\n",
      "    return self.function(*args, **kwargs)\n",
      "  File \"D:\\miniCondaa\\envs\\gpu_kaggle1IFT3395\\lib\\site-packages\\sklearn\\neighbors\\_base.py\", line 704, in _tree_query_parallel_helper\n",
      "    return tree.query(*args, **kwargs)\n",
      "KeyboardInterrupt\n",
      "[W 2024-11-09 08:06:26,463] Trial 44 failed with value None.\n",
      "Optuna Trials Progress:  88%|██████████████████████████████████████████████▋      | 44/50 [8:06:05<1:06:17, 662.86s/it]\n"
     ]
    },
    {
     "ename": "KeyboardInterrupt",
     "evalue": "",
     "output_type": "error",
     "traceback": [
      "\u001b[1;31m---------------------------------------------------------------------------\u001b[0m",
      "\u001b[1;31mKeyboardInterrupt\u001b[0m                         Traceback (most recent call last)",
      "Cell \u001b[1;32mIn[5], line 79\u001b[0m\n\u001b[0;32m     77\u001b[0m \u001b[38;5;66;03m# Load your preprocessed data after applying SVD\u001b[39;00m\n\u001b[0;32m     78\u001b[0m \u001b[38;5;28mprint\u001b[39m(\u001b[38;5;124m\"\u001b[39m\u001b[38;5;130;01m\\n\u001b[39;00m\u001b[38;5;124mApplying Optuna Optimization on SVD Data...\u001b[39m\u001b[38;5;124m\"\u001b[39m)\n\u001b[1;32m---> 79\u001b[0m best_params \u001b[38;5;241m=\u001b[39m \u001b[43moptimize_with_optuna\u001b[49m\u001b[43m(\u001b[49m\u001b[43mX_svd_optimal\u001b[49m\u001b[43m,\u001b[49m\u001b[43m \u001b[49m\u001b[43my\u001b[49m\u001b[43m,\u001b[49m\u001b[43m \u001b[49m\u001b[43mn_trials\u001b[49m\u001b[38;5;241;43m=\u001b[39;49m\u001b[38;5;241;43m50\u001b[39;49m\u001b[43m)\u001b[49m\n\u001b[0;32m     81\u001b[0m \u001b[38;5;66;03m# Train final model using the best parameters found\u001b[39;00m\n\u001b[0;32m     82\u001b[0m \u001b[38;5;28;01mdef\u001b[39;00m \u001b[38;5;21mtrain_final_model\u001b[39m(X, y, params):\n",
      "Cell \u001b[1;32mIn[5], line 63\u001b[0m, in \u001b[0;36moptimize_with_optuna\u001b[1;34m(X, y, n_trials)\u001b[0m\n\u001b[0;32m     60\u001b[0m         \u001b[38;5;66;03m# Print the best trial so far\u001b[39;00m\n\u001b[0;32m     61\u001b[0m         \u001b[38;5;28mprint\u001b[39m(\u001b[38;5;124mf\u001b[39m\u001b[38;5;124m\"\u001b[39m\u001b[38;5;124mTrial \u001b[39m\u001b[38;5;132;01m{\u001b[39;00mtrial\u001b[38;5;241m.\u001b[39mnumber\u001b[38;5;132;01m}\u001b[39;00m\u001b[38;5;124m completed - F1 Score: \u001b[39m\u001b[38;5;132;01m{\u001b[39;00mtrial\u001b[38;5;241m.\u001b[39mvalue\u001b[38;5;132;01m:\u001b[39;00m\u001b[38;5;124m.4f\u001b[39m\u001b[38;5;132;01m}\u001b[39;00m\u001b[38;5;124m, Best F1 Score: \u001b[39m\u001b[38;5;132;01m{\u001b[39;00mstudy\u001b[38;5;241m.\u001b[39mbest_value\u001b[38;5;132;01m:\u001b[39;00m\u001b[38;5;124m.4f\u001b[39m\u001b[38;5;132;01m}\u001b[39;00m\u001b[38;5;124m\"\u001b[39m)\n\u001b[1;32m---> 63\u001b[0m     \u001b[43mstudy\u001b[49m\u001b[38;5;241;43m.\u001b[39;49m\u001b[43moptimize\u001b[49m\u001b[43m(\u001b[49m\u001b[38;5;28;43;01mlambda\u001b[39;49;00m\u001b[43m \u001b[49m\u001b[43mtrial\u001b[49m\u001b[43m:\u001b[49m\u001b[43m \u001b[49m\u001b[43mobjective\u001b[49m\u001b[43m(\u001b[49m\u001b[43mtrial\u001b[49m\u001b[43m,\u001b[49m\u001b[43m \u001b[49m\u001b[43mX\u001b[49m\u001b[43m,\u001b[49m\u001b[43m \u001b[49m\u001b[43my\u001b[49m\u001b[43m)\u001b[49m\u001b[43m,\u001b[49m\u001b[43m \u001b[49m\u001b[43mn_trials\u001b[49m\u001b[38;5;241;43m=\u001b[39;49m\u001b[43mn_trials\u001b[49m\u001b[43m,\u001b[49m\u001b[43m \u001b[49m\u001b[43mcallbacks\u001b[49m\u001b[38;5;241;43m=\u001b[39;49m\u001b[43m[\u001b[49m\u001b[43mcallback\u001b[49m\u001b[43m]\u001b[49m\u001b[43m)\u001b[49m\n\u001b[0;32m     65\u001b[0m \u001b[38;5;28mprint\u001b[39m(\u001b[38;5;124mf\u001b[39m\u001b[38;5;124m\"\u001b[39m\u001b[38;5;130;01m\\n\u001b[39;00m\u001b[38;5;124mBest F1 Score: \u001b[39m\u001b[38;5;132;01m{\u001b[39;00mstudy\u001b[38;5;241m.\u001b[39mbest_value\u001b[38;5;132;01m:\u001b[39;00m\u001b[38;5;124m.4f\u001b[39m\u001b[38;5;132;01m}\u001b[39;00m\u001b[38;5;124m\"\u001b[39m)\n\u001b[0;32m     66\u001b[0m \u001b[38;5;28mprint\u001b[39m(\u001b[38;5;124m\"\u001b[39m\u001b[38;5;124mBest Parameters:\u001b[39m\u001b[38;5;124m\"\u001b[39m, study\u001b[38;5;241m.\u001b[39mbest_params)\n",
      "File \u001b[1;32mD:\\miniCondaa\\envs\\gpu_kaggle1IFT3395\\lib\\site-packages\\optuna\\study\\study.py:475\u001b[0m, in \u001b[0;36mStudy.optimize\u001b[1;34m(self, func, n_trials, timeout, n_jobs, catch, callbacks, gc_after_trial, show_progress_bar)\u001b[0m\n\u001b[0;32m    373\u001b[0m \u001b[38;5;28;01mdef\u001b[39;00m \u001b[38;5;21moptimize\u001b[39m(\n\u001b[0;32m    374\u001b[0m     \u001b[38;5;28mself\u001b[39m,\n\u001b[0;32m    375\u001b[0m     func: ObjectiveFuncType,\n\u001b[1;32m   (...)\u001b[0m\n\u001b[0;32m    382\u001b[0m     show_progress_bar: \u001b[38;5;28mbool\u001b[39m \u001b[38;5;241m=\u001b[39m \u001b[38;5;28;01mFalse\u001b[39;00m,\n\u001b[0;32m    383\u001b[0m ) \u001b[38;5;241m-\u001b[39m\u001b[38;5;241m>\u001b[39m \u001b[38;5;28;01mNone\u001b[39;00m:\n\u001b[0;32m    384\u001b[0m \u001b[38;5;250m    \u001b[39m\u001b[38;5;124;03m\"\"\"Optimize an objective function.\u001b[39;00m\n\u001b[0;32m    385\u001b[0m \n\u001b[0;32m    386\u001b[0m \u001b[38;5;124;03m    Optimization is done by choosing a suitable set of hyperparameter values from a given\u001b[39;00m\n\u001b[1;32m   (...)\u001b[0m\n\u001b[0;32m    473\u001b[0m \u001b[38;5;124;03m            If nested invocation of this method occurs.\u001b[39;00m\n\u001b[0;32m    474\u001b[0m \u001b[38;5;124;03m    \"\"\"\u001b[39;00m\n\u001b[1;32m--> 475\u001b[0m     \u001b[43m_optimize\u001b[49m\u001b[43m(\u001b[49m\n\u001b[0;32m    476\u001b[0m \u001b[43m        \u001b[49m\u001b[43mstudy\u001b[49m\u001b[38;5;241;43m=\u001b[39;49m\u001b[38;5;28;43mself\u001b[39;49m\u001b[43m,\u001b[49m\n\u001b[0;32m    477\u001b[0m \u001b[43m        \u001b[49m\u001b[43mfunc\u001b[49m\u001b[38;5;241;43m=\u001b[39;49m\u001b[43mfunc\u001b[49m\u001b[43m,\u001b[49m\n\u001b[0;32m    478\u001b[0m \u001b[43m        \u001b[49m\u001b[43mn_trials\u001b[49m\u001b[38;5;241;43m=\u001b[39;49m\u001b[43mn_trials\u001b[49m\u001b[43m,\u001b[49m\n\u001b[0;32m    479\u001b[0m \u001b[43m        \u001b[49m\u001b[43mtimeout\u001b[49m\u001b[38;5;241;43m=\u001b[39;49m\u001b[43mtimeout\u001b[49m\u001b[43m,\u001b[49m\n\u001b[0;32m    480\u001b[0m \u001b[43m        \u001b[49m\u001b[43mn_jobs\u001b[49m\u001b[38;5;241;43m=\u001b[39;49m\u001b[43mn_jobs\u001b[49m\u001b[43m,\u001b[49m\n\u001b[0;32m    481\u001b[0m \u001b[43m        \u001b[49m\u001b[43mcatch\u001b[49m\u001b[38;5;241;43m=\u001b[39;49m\u001b[38;5;28;43mtuple\u001b[39;49m\u001b[43m(\u001b[49m\u001b[43mcatch\u001b[49m\u001b[43m)\u001b[49m\u001b[43m \u001b[49m\u001b[38;5;28;43;01mif\u001b[39;49;00m\u001b[43m \u001b[49m\u001b[38;5;28;43misinstance\u001b[39;49m\u001b[43m(\u001b[49m\u001b[43mcatch\u001b[49m\u001b[43m,\u001b[49m\u001b[43m \u001b[49m\u001b[43mIterable\u001b[49m\u001b[43m)\u001b[49m\u001b[43m \u001b[49m\u001b[38;5;28;43;01melse\u001b[39;49;00m\u001b[43m \u001b[49m\u001b[43m(\u001b[49m\u001b[43mcatch\u001b[49m\u001b[43m,\u001b[49m\u001b[43m)\u001b[49m\u001b[43m,\u001b[49m\n\u001b[0;32m    482\u001b[0m \u001b[43m        \u001b[49m\u001b[43mcallbacks\u001b[49m\u001b[38;5;241;43m=\u001b[39;49m\u001b[43mcallbacks\u001b[49m\u001b[43m,\u001b[49m\n\u001b[0;32m    483\u001b[0m \u001b[43m        \u001b[49m\u001b[43mgc_after_trial\u001b[49m\u001b[38;5;241;43m=\u001b[39;49m\u001b[43mgc_after_trial\u001b[49m\u001b[43m,\u001b[49m\n\u001b[0;32m    484\u001b[0m \u001b[43m        \u001b[49m\u001b[43mshow_progress_bar\u001b[49m\u001b[38;5;241;43m=\u001b[39;49m\u001b[43mshow_progress_bar\u001b[49m\u001b[43m,\u001b[49m\n\u001b[0;32m    485\u001b[0m \u001b[43m    \u001b[49m\u001b[43m)\u001b[49m\n",
      "File \u001b[1;32mD:\\miniCondaa\\envs\\gpu_kaggle1IFT3395\\lib\\site-packages\\optuna\\study\\_optimize.py:63\u001b[0m, in \u001b[0;36m_optimize\u001b[1;34m(study, func, n_trials, timeout, n_jobs, catch, callbacks, gc_after_trial, show_progress_bar)\u001b[0m\n\u001b[0;32m     61\u001b[0m \u001b[38;5;28;01mtry\u001b[39;00m:\n\u001b[0;32m     62\u001b[0m     \u001b[38;5;28;01mif\u001b[39;00m n_jobs \u001b[38;5;241m==\u001b[39m \u001b[38;5;241m1\u001b[39m:\n\u001b[1;32m---> 63\u001b[0m         \u001b[43m_optimize_sequential\u001b[49m\u001b[43m(\u001b[49m\n\u001b[0;32m     64\u001b[0m \u001b[43m            \u001b[49m\u001b[43mstudy\u001b[49m\u001b[43m,\u001b[49m\n\u001b[0;32m     65\u001b[0m \u001b[43m            \u001b[49m\u001b[43mfunc\u001b[49m\u001b[43m,\u001b[49m\n\u001b[0;32m     66\u001b[0m \u001b[43m            \u001b[49m\u001b[43mn_trials\u001b[49m\u001b[43m,\u001b[49m\n\u001b[0;32m     67\u001b[0m \u001b[43m            \u001b[49m\u001b[43mtimeout\u001b[49m\u001b[43m,\u001b[49m\n\u001b[0;32m     68\u001b[0m \u001b[43m            \u001b[49m\u001b[43mcatch\u001b[49m\u001b[43m,\u001b[49m\n\u001b[0;32m     69\u001b[0m \u001b[43m            \u001b[49m\u001b[43mcallbacks\u001b[49m\u001b[43m,\u001b[49m\n\u001b[0;32m     70\u001b[0m \u001b[43m            \u001b[49m\u001b[43mgc_after_trial\u001b[49m\u001b[43m,\u001b[49m\n\u001b[0;32m     71\u001b[0m \u001b[43m            \u001b[49m\u001b[43mreseed_sampler_rng\u001b[49m\u001b[38;5;241;43m=\u001b[39;49m\u001b[38;5;28;43;01mFalse\u001b[39;49;00m\u001b[43m,\u001b[49m\n\u001b[0;32m     72\u001b[0m \u001b[43m            \u001b[49m\u001b[43mtime_start\u001b[49m\u001b[38;5;241;43m=\u001b[39;49m\u001b[38;5;28;43;01mNone\u001b[39;49;00m\u001b[43m,\u001b[49m\n\u001b[0;32m     73\u001b[0m \u001b[43m            \u001b[49m\u001b[43mprogress_bar\u001b[49m\u001b[38;5;241;43m=\u001b[39;49m\u001b[43mprogress_bar\u001b[49m\u001b[43m,\u001b[49m\n\u001b[0;32m     74\u001b[0m \u001b[43m        \u001b[49m\u001b[43m)\u001b[49m\n\u001b[0;32m     75\u001b[0m     \u001b[38;5;28;01melse\u001b[39;00m:\n\u001b[0;32m     76\u001b[0m         \u001b[38;5;28;01mif\u001b[39;00m n_jobs \u001b[38;5;241m==\u001b[39m \u001b[38;5;241m-\u001b[39m\u001b[38;5;241m1\u001b[39m:\n",
      "File \u001b[1;32mD:\\miniCondaa\\envs\\gpu_kaggle1IFT3395\\lib\\site-packages\\optuna\\study\\_optimize.py:160\u001b[0m, in \u001b[0;36m_optimize_sequential\u001b[1;34m(study, func, n_trials, timeout, catch, callbacks, gc_after_trial, reseed_sampler_rng, time_start, progress_bar)\u001b[0m\n\u001b[0;32m    157\u001b[0m         \u001b[38;5;28;01mbreak\u001b[39;00m\n\u001b[0;32m    159\u001b[0m \u001b[38;5;28;01mtry\u001b[39;00m:\n\u001b[1;32m--> 160\u001b[0m     frozen_trial \u001b[38;5;241m=\u001b[39m \u001b[43m_run_trial\u001b[49m\u001b[43m(\u001b[49m\u001b[43mstudy\u001b[49m\u001b[43m,\u001b[49m\u001b[43m \u001b[49m\u001b[43mfunc\u001b[49m\u001b[43m,\u001b[49m\u001b[43m \u001b[49m\u001b[43mcatch\u001b[49m\u001b[43m)\u001b[49m\n\u001b[0;32m    161\u001b[0m \u001b[38;5;28;01mfinally\u001b[39;00m:\n\u001b[0;32m    162\u001b[0m     \u001b[38;5;66;03m# The following line mitigates memory problems that can be occurred in some\u001b[39;00m\n\u001b[0;32m    163\u001b[0m     \u001b[38;5;66;03m# environments (e.g., services that use computing containers such as GitHub Actions).\u001b[39;00m\n\u001b[0;32m    164\u001b[0m     \u001b[38;5;66;03m# Please refer to the following PR for further details:\u001b[39;00m\n\u001b[0;32m    165\u001b[0m     \u001b[38;5;66;03m# https://github.com/optuna/optuna/pull/325.\u001b[39;00m\n\u001b[0;32m    166\u001b[0m     \u001b[38;5;28;01mif\u001b[39;00m gc_after_trial:\n",
      "File \u001b[1;32mD:\\miniCondaa\\envs\\gpu_kaggle1IFT3395\\lib\\site-packages\\optuna\\study\\_optimize.py:248\u001b[0m, in \u001b[0;36m_run_trial\u001b[1;34m(study, func, catch)\u001b[0m\n\u001b[0;32m    241\u001b[0m         \u001b[38;5;28;01massert\u001b[39;00m \u001b[38;5;28;01mFalse\u001b[39;00m, \u001b[38;5;124m\"\u001b[39m\u001b[38;5;124mShould not reach.\u001b[39m\u001b[38;5;124m\"\u001b[39m\n\u001b[0;32m    243\u001b[0m \u001b[38;5;28;01mif\u001b[39;00m (\n\u001b[0;32m    244\u001b[0m     frozen_trial\u001b[38;5;241m.\u001b[39mstate \u001b[38;5;241m==\u001b[39m TrialState\u001b[38;5;241m.\u001b[39mFAIL\n\u001b[0;32m    245\u001b[0m     \u001b[38;5;129;01mand\u001b[39;00m func_err \u001b[38;5;129;01mis\u001b[39;00m \u001b[38;5;129;01mnot\u001b[39;00m \u001b[38;5;28;01mNone\u001b[39;00m\n\u001b[0;32m    246\u001b[0m     \u001b[38;5;129;01mand\u001b[39;00m \u001b[38;5;129;01mnot\u001b[39;00m \u001b[38;5;28misinstance\u001b[39m(func_err, catch)\n\u001b[0;32m    247\u001b[0m ):\n\u001b[1;32m--> 248\u001b[0m     \u001b[38;5;28;01mraise\u001b[39;00m func_err\n\u001b[0;32m    249\u001b[0m \u001b[38;5;28;01mreturn\u001b[39;00m frozen_trial\n",
      "File \u001b[1;32mD:\\miniCondaa\\envs\\gpu_kaggle1IFT3395\\lib\\site-packages\\optuna\\study\\_optimize.py:197\u001b[0m, in \u001b[0;36m_run_trial\u001b[1;34m(study, func, catch)\u001b[0m\n\u001b[0;32m    195\u001b[0m \u001b[38;5;28;01mwith\u001b[39;00m get_heartbeat_thread(trial\u001b[38;5;241m.\u001b[39m_trial_id, study\u001b[38;5;241m.\u001b[39m_storage):\n\u001b[0;32m    196\u001b[0m     \u001b[38;5;28;01mtry\u001b[39;00m:\n\u001b[1;32m--> 197\u001b[0m         value_or_values \u001b[38;5;241m=\u001b[39m \u001b[43mfunc\u001b[49m\u001b[43m(\u001b[49m\u001b[43mtrial\u001b[49m\u001b[43m)\u001b[49m\n\u001b[0;32m    198\u001b[0m     \u001b[38;5;28;01mexcept\u001b[39;00m exceptions\u001b[38;5;241m.\u001b[39mTrialPruned \u001b[38;5;28;01mas\u001b[39;00m e:\n\u001b[0;32m    199\u001b[0m         \u001b[38;5;66;03m# TODO(mamu): Handle multi-objective cases.\u001b[39;00m\n\u001b[0;32m    200\u001b[0m         state \u001b[38;5;241m=\u001b[39m TrialState\u001b[38;5;241m.\u001b[39mPRUNED\n",
      "Cell \u001b[1;32mIn[5], line 63\u001b[0m, in \u001b[0;36moptimize_with_optuna.<locals>.<lambda>\u001b[1;34m(trial)\u001b[0m\n\u001b[0;32m     60\u001b[0m         \u001b[38;5;66;03m# Print the best trial so far\u001b[39;00m\n\u001b[0;32m     61\u001b[0m         \u001b[38;5;28mprint\u001b[39m(\u001b[38;5;124mf\u001b[39m\u001b[38;5;124m\"\u001b[39m\u001b[38;5;124mTrial \u001b[39m\u001b[38;5;132;01m{\u001b[39;00mtrial\u001b[38;5;241m.\u001b[39mnumber\u001b[38;5;132;01m}\u001b[39;00m\u001b[38;5;124m completed - F1 Score: \u001b[39m\u001b[38;5;132;01m{\u001b[39;00mtrial\u001b[38;5;241m.\u001b[39mvalue\u001b[38;5;132;01m:\u001b[39;00m\u001b[38;5;124m.4f\u001b[39m\u001b[38;5;132;01m}\u001b[39;00m\u001b[38;5;124m, Best F1 Score: \u001b[39m\u001b[38;5;132;01m{\u001b[39;00mstudy\u001b[38;5;241m.\u001b[39mbest_value\u001b[38;5;132;01m:\u001b[39;00m\u001b[38;5;124m.4f\u001b[39m\u001b[38;5;132;01m}\u001b[39;00m\u001b[38;5;124m\"\u001b[39m)\n\u001b[1;32m---> 63\u001b[0m     study\u001b[38;5;241m.\u001b[39moptimize(\u001b[38;5;28;01mlambda\u001b[39;00m trial: \u001b[43mobjective\u001b[49m\u001b[43m(\u001b[49m\u001b[43mtrial\u001b[49m\u001b[43m,\u001b[49m\u001b[43m \u001b[49m\u001b[43mX\u001b[49m\u001b[43m,\u001b[49m\u001b[43m \u001b[49m\u001b[43my\u001b[49m\u001b[43m)\u001b[49m, n_trials\u001b[38;5;241m=\u001b[39mn_trials, callbacks\u001b[38;5;241m=\u001b[39m[callback])\n\u001b[0;32m     65\u001b[0m \u001b[38;5;28mprint\u001b[39m(\u001b[38;5;124mf\u001b[39m\u001b[38;5;124m\"\u001b[39m\u001b[38;5;130;01m\\n\u001b[39;00m\u001b[38;5;124mBest F1 Score: \u001b[39m\u001b[38;5;132;01m{\u001b[39;00mstudy\u001b[38;5;241m.\u001b[39mbest_value\u001b[38;5;132;01m:\u001b[39;00m\u001b[38;5;124m.4f\u001b[39m\u001b[38;5;132;01m}\u001b[39;00m\u001b[38;5;124m\"\u001b[39m)\n\u001b[0;32m     66\u001b[0m \u001b[38;5;28mprint\u001b[39m(\u001b[38;5;124m\"\u001b[39m\u001b[38;5;124mBest Parameters:\u001b[39m\u001b[38;5;124m\"\u001b[39m, study\u001b[38;5;241m.\u001b[39mbest_params)\n",
      "Cell \u001b[1;32mIn[5], line 25\u001b[0m, in \u001b[0;36mobjective\u001b[1;34m(trial, X, y)\u001b[0m\n\u001b[0;32m     22\u001b[0m \u001b[38;5;28;01melse\u001b[39;00m:\n\u001b[0;32m     23\u001b[0m     selector \u001b[38;5;241m=\u001b[39m SelectKBest(mutual_info_classif, k\u001b[38;5;241m=\u001b[39mk)\n\u001b[1;32m---> 25\u001b[0m X_reduced \u001b[38;5;241m=\u001b[39m \u001b[43mselector\u001b[49m\u001b[38;5;241;43m.\u001b[39;49m\u001b[43mfit_transform\u001b[49m\u001b[43m(\u001b[49m\u001b[43mX\u001b[49m\u001b[43m,\u001b[49m\u001b[43m \u001b[49m\u001b[43my\u001b[49m\u001b[43m)\u001b[49m\n\u001b[0;32m     27\u001b[0m \u001b[38;5;66;03m# Step 2: Optimize LightGBM hyperparameters\u001b[39;00m\n\u001b[0;32m     28\u001b[0m params \u001b[38;5;241m=\u001b[39m {\n\u001b[0;32m     29\u001b[0m     \u001b[38;5;124m'\u001b[39m\u001b[38;5;124mobjective\u001b[39m\u001b[38;5;124m'\u001b[39m: \u001b[38;5;124m'\u001b[39m\u001b[38;5;124mbinary\u001b[39m\u001b[38;5;124m'\u001b[39m,\n\u001b[0;32m     30\u001b[0m     \u001b[38;5;124m'\u001b[39m\u001b[38;5;124mn_estimators\u001b[39m\u001b[38;5;124m'\u001b[39m: trial\u001b[38;5;241m.\u001b[39msuggest_int(\u001b[38;5;124m'\u001b[39m\u001b[38;5;124mn_estimators\u001b[39m\u001b[38;5;124m'\u001b[39m, \u001b[38;5;241m100\u001b[39m, \u001b[38;5;241m1000\u001b[39m),\n\u001b[1;32m   (...)\u001b[0m\n\u001b[0;32m     43\u001b[0m     \u001b[38;5;124m'\u001b[39m\u001b[38;5;124mn_jobs\u001b[39m\u001b[38;5;124m'\u001b[39m: \u001b[38;5;241m-\u001b[39m\u001b[38;5;241m1\u001b[39m\n\u001b[0;32m     44\u001b[0m }\n",
      "File \u001b[1;32mD:\\miniCondaa\\envs\\gpu_kaggle1IFT3395\\lib\\site-packages\\sklearn\\utils\\_set_output.py:316\u001b[0m, in \u001b[0;36m_wrap_method_output.<locals>.wrapped\u001b[1;34m(self, X, *args, **kwargs)\u001b[0m\n\u001b[0;32m    314\u001b[0m \u001b[38;5;129m@wraps\u001b[39m(f)\n\u001b[0;32m    315\u001b[0m \u001b[38;5;28;01mdef\u001b[39;00m \u001b[38;5;21mwrapped\u001b[39m(\u001b[38;5;28mself\u001b[39m, X, \u001b[38;5;241m*\u001b[39margs, \u001b[38;5;241m*\u001b[39m\u001b[38;5;241m*\u001b[39mkwargs):\n\u001b[1;32m--> 316\u001b[0m     data_to_wrap \u001b[38;5;241m=\u001b[39m f(\u001b[38;5;28mself\u001b[39m, X, \u001b[38;5;241m*\u001b[39margs, \u001b[38;5;241m*\u001b[39m\u001b[38;5;241m*\u001b[39mkwargs)\n\u001b[0;32m    317\u001b[0m     \u001b[38;5;28;01mif\u001b[39;00m \u001b[38;5;28misinstance\u001b[39m(data_to_wrap, \u001b[38;5;28mtuple\u001b[39m):\n\u001b[0;32m    318\u001b[0m         \u001b[38;5;66;03m# only wrap the first output for cross decomposition\u001b[39;00m\n\u001b[0;32m    319\u001b[0m         return_tuple \u001b[38;5;241m=\u001b[39m (\n\u001b[0;32m    320\u001b[0m             _wrap_data_with_container(method, data_to_wrap[\u001b[38;5;241m0\u001b[39m], X, \u001b[38;5;28mself\u001b[39m),\n\u001b[0;32m    321\u001b[0m             \u001b[38;5;241m*\u001b[39mdata_to_wrap[\u001b[38;5;241m1\u001b[39m:],\n\u001b[0;32m    322\u001b[0m         )\n",
      "File \u001b[1;32mD:\\miniCondaa\\envs\\gpu_kaggle1IFT3395\\lib\\site-packages\\sklearn\\base.py:1101\u001b[0m, in \u001b[0;36mTransformerMixin.fit_transform\u001b[1;34m(self, X, y, **fit_params)\u001b[0m\n\u001b[0;32m   1098\u001b[0m     \u001b[38;5;28;01mreturn\u001b[39;00m \u001b[38;5;28mself\u001b[39m\u001b[38;5;241m.\u001b[39mfit(X, \u001b[38;5;241m*\u001b[39m\u001b[38;5;241m*\u001b[39mfit_params)\u001b[38;5;241m.\u001b[39mtransform(X)\n\u001b[0;32m   1099\u001b[0m \u001b[38;5;28;01melse\u001b[39;00m:\n\u001b[0;32m   1100\u001b[0m     \u001b[38;5;66;03m# fit method of arity 2 (supervised transformation)\u001b[39;00m\n\u001b[1;32m-> 1101\u001b[0m     \u001b[38;5;28;01mreturn\u001b[39;00m \u001b[38;5;28mself\u001b[39m\u001b[38;5;241m.\u001b[39mfit(X, y, \u001b[38;5;241m*\u001b[39m\u001b[38;5;241m*\u001b[39mfit_params)\u001b[38;5;241m.\u001b[39mtransform(X)\n",
      "File \u001b[1;32mD:\\miniCondaa\\envs\\gpu_kaggle1IFT3395\\lib\\site-packages\\sklearn\\base.py:1473\u001b[0m, in \u001b[0;36m_fit_context.<locals>.decorator.<locals>.wrapper\u001b[1;34m(estimator, *args, **kwargs)\u001b[0m\n\u001b[0;32m   1466\u001b[0m     estimator\u001b[38;5;241m.\u001b[39m_validate_params()\n\u001b[0;32m   1468\u001b[0m \u001b[38;5;28;01mwith\u001b[39;00m config_context(\n\u001b[0;32m   1469\u001b[0m     skip_parameter_validation\u001b[38;5;241m=\u001b[39m(\n\u001b[0;32m   1470\u001b[0m         prefer_skip_nested_validation \u001b[38;5;129;01mor\u001b[39;00m global_skip_validation\n\u001b[0;32m   1471\u001b[0m     )\n\u001b[0;32m   1472\u001b[0m ):\n\u001b[1;32m-> 1473\u001b[0m     \u001b[38;5;28;01mreturn\u001b[39;00m fit_method(estimator, \u001b[38;5;241m*\u001b[39margs, \u001b[38;5;241m*\u001b[39m\u001b[38;5;241m*\u001b[39mkwargs)\n",
      "File \u001b[1;32mD:\\miniCondaa\\envs\\gpu_kaggle1IFT3395\\lib\\site-packages\\sklearn\\feature_selection\\_univariate_selection.py:567\u001b[0m, in \u001b[0;36m_BaseFilter.fit\u001b[1;34m(self, X, y)\u001b[0m\n\u001b[0;32m    562\u001b[0m     X, y \u001b[38;5;241m=\u001b[39m \u001b[38;5;28mself\u001b[39m\u001b[38;5;241m.\u001b[39m_validate_data(\n\u001b[0;32m    563\u001b[0m         X, y, accept_sparse\u001b[38;5;241m=\u001b[39m[\u001b[38;5;124m\"\u001b[39m\u001b[38;5;124mcsr\u001b[39m\u001b[38;5;124m\"\u001b[39m, \u001b[38;5;124m\"\u001b[39m\u001b[38;5;124mcsc\u001b[39m\u001b[38;5;124m\"\u001b[39m], multi_output\u001b[38;5;241m=\u001b[39m\u001b[38;5;28;01mTrue\u001b[39;00m\n\u001b[0;32m    564\u001b[0m     )\n\u001b[0;32m    566\u001b[0m \u001b[38;5;28mself\u001b[39m\u001b[38;5;241m.\u001b[39m_check_params(X, y)\n\u001b[1;32m--> 567\u001b[0m score_func_ret \u001b[38;5;241m=\u001b[39m \u001b[38;5;28;43mself\u001b[39;49m\u001b[38;5;241;43m.\u001b[39;49m\u001b[43mscore_func\u001b[49m\u001b[43m(\u001b[49m\u001b[43mX\u001b[49m\u001b[43m,\u001b[49m\u001b[43m \u001b[49m\u001b[43my\u001b[49m\u001b[43m)\u001b[49m\n\u001b[0;32m    568\u001b[0m \u001b[38;5;28;01mif\u001b[39;00m \u001b[38;5;28misinstance\u001b[39m(score_func_ret, (\u001b[38;5;28mlist\u001b[39m, \u001b[38;5;28mtuple\u001b[39m)):\n\u001b[0;32m    569\u001b[0m     \u001b[38;5;28mself\u001b[39m\u001b[38;5;241m.\u001b[39mscores_, \u001b[38;5;28mself\u001b[39m\u001b[38;5;241m.\u001b[39mpvalues_ \u001b[38;5;241m=\u001b[39m score_func_ret\n",
      "File \u001b[1;32mD:\\miniCondaa\\envs\\gpu_kaggle1IFT3395\\lib\\site-packages\\sklearn\\utils\\_param_validation.py:186\u001b[0m, in \u001b[0;36mvalidate_params.<locals>.decorator.<locals>.wrapper\u001b[1;34m(*args, **kwargs)\u001b[0m\n\u001b[0;32m    184\u001b[0m global_skip_validation \u001b[38;5;241m=\u001b[39m get_config()[\u001b[38;5;124m\"\u001b[39m\u001b[38;5;124mskip_parameter_validation\u001b[39m\u001b[38;5;124m\"\u001b[39m]\n\u001b[0;32m    185\u001b[0m \u001b[38;5;28;01mif\u001b[39;00m global_skip_validation:\n\u001b[1;32m--> 186\u001b[0m     \u001b[38;5;28;01mreturn\u001b[39;00m func(\u001b[38;5;241m*\u001b[39margs, \u001b[38;5;241m*\u001b[39m\u001b[38;5;241m*\u001b[39mkwargs)\n\u001b[0;32m    188\u001b[0m func_sig \u001b[38;5;241m=\u001b[39m signature(func)\n\u001b[0;32m    190\u001b[0m \u001b[38;5;66;03m# Map *args/**kwargs to the function signature\u001b[39;00m\n",
      "File \u001b[1;32mD:\\miniCondaa\\envs\\gpu_kaggle1IFT3395\\lib\\site-packages\\sklearn\\feature_selection\\_mutual_info.py:571\u001b[0m, in \u001b[0;36mmutual_info_classif\u001b[1;34m(X, y, discrete_features, n_neighbors, copy, random_state, n_jobs)\u001b[0m\n\u001b[0;32m    475\u001b[0m \u001b[38;5;250m\u001b[39m\u001b[38;5;124;03m\"\"\"Estimate mutual information for a discrete target variable.\u001b[39;00m\n\u001b[0;32m    476\u001b[0m \n\u001b[0;32m    477\u001b[0m \u001b[38;5;124;03mMutual information (MI) [1]_ between two random variables is a non-negative\u001b[39;00m\n\u001b[1;32m   (...)\u001b[0m\n\u001b[0;32m    568\u001b[0m \u001b[38;5;124;03m       0.     , 0.     , 0.     , 0.      , 0.        ])\u001b[39;00m\n\u001b[0;32m    569\u001b[0m \u001b[38;5;124;03m\"\"\"\u001b[39;00m\n\u001b[0;32m    570\u001b[0m check_classification_targets(y)\n\u001b[1;32m--> 571\u001b[0m \u001b[38;5;28;01mreturn\u001b[39;00m \u001b[43m_estimate_mi\u001b[49m\u001b[43m(\u001b[49m\n\u001b[0;32m    572\u001b[0m \u001b[43m    \u001b[49m\u001b[43mX\u001b[49m\u001b[43m,\u001b[49m\n\u001b[0;32m    573\u001b[0m \u001b[43m    \u001b[49m\u001b[43my\u001b[49m\u001b[43m,\u001b[49m\n\u001b[0;32m    574\u001b[0m \u001b[43m    \u001b[49m\u001b[43mdiscrete_features\u001b[49m\u001b[38;5;241;43m=\u001b[39;49m\u001b[43mdiscrete_features\u001b[49m\u001b[43m,\u001b[49m\n\u001b[0;32m    575\u001b[0m \u001b[43m    \u001b[49m\u001b[43mdiscrete_target\u001b[49m\u001b[38;5;241;43m=\u001b[39;49m\u001b[38;5;28;43;01mTrue\u001b[39;49;00m\u001b[43m,\u001b[49m\n\u001b[0;32m    576\u001b[0m \u001b[43m    \u001b[49m\u001b[43mn_neighbors\u001b[49m\u001b[38;5;241;43m=\u001b[39;49m\u001b[43mn_neighbors\u001b[49m\u001b[43m,\u001b[49m\n\u001b[0;32m    577\u001b[0m \u001b[43m    \u001b[49m\u001b[43mcopy\u001b[49m\u001b[38;5;241;43m=\u001b[39;49m\u001b[43mcopy\u001b[49m\u001b[43m,\u001b[49m\n\u001b[0;32m    578\u001b[0m \u001b[43m    \u001b[49m\u001b[43mrandom_state\u001b[49m\u001b[38;5;241;43m=\u001b[39;49m\u001b[43mrandom_state\u001b[49m\u001b[43m,\u001b[49m\n\u001b[0;32m    579\u001b[0m \u001b[43m    \u001b[49m\u001b[43mn_jobs\u001b[49m\u001b[38;5;241;43m=\u001b[39;49m\u001b[43mn_jobs\u001b[49m\u001b[43m,\u001b[49m\n\u001b[0;32m    580\u001b[0m \u001b[43m\u001b[49m\u001b[43m)\u001b[49m\n",
      "File \u001b[1;32mD:\\miniCondaa\\envs\\gpu_kaggle1IFT3395\\lib\\site-packages\\sklearn\\feature_selection\\_mutual_info.py:317\u001b[0m, in \u001b[0;36m_estimate_mi\u001b[1;34m(X, y, discrete_features, discrete_target, n_neighbors, copy, random_state, n_jobs)\u001b[0m\n\u001b[0;32m    310\u001b[0m     y \u001b[38;5;241m=\u001b[39m scale(y, with_mean\u001b[38;5;241m=\u001b[39m\u001b[38;5;28;01mFalse\u001b[39;00m)\n\u001b[0;32m    311\u001b[0m     y \u001b[38;5;241m+\u001b[39m\u001b[38;5;241m=\u001b[39m (\n\u001b[0;32m    312\u001b[0m         \u001b[38;5;241m1e-10\u001b[39m\n\u001b[0;32m    313\u001b[0m         \u001b[38;5;241m*\u001b[39m np\u001b[38;5;241m.\u001b[39mmaximum(\u001b[38;5;241m1\u001b[39m, np\u001b[38;5;241m.\u001b[39mmean(np\u001b[38;5;241m.\u001b[39mabs(y)))\n\u001b[0;32m    314\u001b[0m         \u001b[38;5;241m*\u001b[39m rng\u001b[38;5;241m.\u001b[39mstandard_normal(size\u001b[38;5;241m=\u001b[39mn_samples)\n\u001b[0;32m    315\u001b[0m     )\n\u001b[1;32m--> 317\u001b[0m mi \u001b[38;5;241m=\u001b[39m \u001b[43mParallel\u001b[49m\u001b[43m(\u001b[49m\u001b[43mn_jobs\u001b[49m\u001b[38;5;241;43m=\u001b[39;49m\u001b[43mn_jobs\u001b[49m\u001b[43m)\u001b[49m\u001b[43m(\u001b[49m\n\u001b[0;32m    318\u001b[0m \u001b[43m    \u001b[49m\u001b[43mdelayed\u001b[49m\u001b[43m(\u001b[49m\u001b[43m_compute_mi\u001b[49m\u001b[43m)\u001b[49m\u001b[43m(\u001b[49m\u001b[43mx\u001b[49m\u001b[43m,\u001b[49m\u001b[43m \u001b[49m\u001b[43my\u001b[49m\u001b[43m,\u001b[49m\u001b[43m \u001b[49m\u001b[43mdiscrete_feature\u001b[49m\u001b[43m,\u001b[49m\u001b[43m \u001b[49m\u001b[43mdiscrete_target\u001b[49m\u001b[43m,\u001b[49m\u001b[43m \u001b[49m\u001b[43mn_neighbors\u001b[49m\u001b[43m)\u001b[49m\n\u001b[0;32m    319\u001b[0m \u001b[43m    \u001b[49m\u001b[38;5;28;43;01mfor\u001b[39;49;00m\u001b[43m \u001b[49m\u001b[43mx\u001b[49m\u001b[43m,\u001b[49m\u001b[43m \u001b[49m\u001b[43mdiscrete_feature\u001b[49m\u001b[43m \u001b[49m\u001b[38;5;129;43;01min\u001b[39;49;00m\u001b[43m \u001b[49m\u001b[38;5;28;43mzip\u001b[39;49m\u001b[43m(\u001b[49m\u001b[43m_iterate_columns\u001b[49m\u001b[43m(\u001b[49m\u001b[43mX\u001b[49m\u001b[43m)\u001b[49m\u001b[43m,\u001b[49m\u001b[43m \u001b[49m\u001b[43mdiscrete_mask\u001b[49m\u001b[43m)\u001b[49m\n\u001b[0;32m    320\u001b[0m \u001b[43m\u001b[49m\u001b[43m)\u001b[49m\n\u001b[0;32m    322\u001b[0m \u001b[38;5;28;01mreturn\u001b[39;00m np\u001b[38;5;241m.\u001b[39marray(mi)\n",
      "File \u001b[1;32mD:\\miniCondaa\\envs\\gpu_kaggle1IFT3395\\lib\\site-packages\\sklearn\\utils\\parallel.py:74\u001b[0m, in \u001b[0;36mParallel.__call__\u001b[1;34m(self, iterable)\u001b[0m\n\u001b[0;32m     69\u001b[0m config \u001b[38;5;241m=\u001b[39m get_config()\n\u001b[0;32m     70\u001b[0m iterable_with_config \u001b[38;5;241m=\u001b[39m (\n\u001b[0;32m     71\u001b[0m     (_with_config(delayed_func, config), args, kwargs)\n\u001b[0;32m     72\u001b[0m     \u001b[38;5;28;01mfor\u001b[39;00m delayed_func, args, kwargs \u001b[38;5;129;01min\u001b[39;00m iterable\n\u001b[0;32m     73\u001b[0m )\n\u001b[1;32m---> 74\u001b[0m \u001b[38;5;28;01mreturn\u001b[39;00m \u001b[38;5;28;43msuper\u001b[39;49m\u001b[43m(\u001b[49m\u001b[43m)\u001b[49m\u001b[38;5;241;43m.\u001b[39;49m\u001b[38;5;21;43m__call__\u001b[39;49m\u001b[43m(\u001b[49m\u001b[43miterable_with_config\u001b[49m\u001b[43m)\u001b[49m\n",
      "File \u001b[1;32mD:\\miniCondaa\\envs\\gpu_kaggle1IFT3395\\lib\\site-packages\\joblib\\parallel.py:1918\u001b[0m, in \u001b[0;36mParallel.__call__\u001b[1;34m(self, iterable)\u001b[0m\n\u001b[0;32m   1916\u001b[0m     output \u001b[38;5;241m=\u001b[39m \u001b[38;5;28mself\u001b[39m\u001b[38;5;241m.\u001b[39m_get_sequential_output(iterable)\n\u001b[0;32m   1917\u001b[0m     \u001b[38;5;28mnext\u001b[39m(output)\n\u001b[1;32m-> 1918\u001b[0m     \u001b[38;5;28;01mreturn\u001b[39;00m output \u001b[38;5;28;01mif\u001b[39;00m \u001b[38;5;28mself\u001b[39m\u001b[38;5;241m.\u001b[39mreturn_generator \u001b[38;5;28;01melse\u001b[39;00m \u001b[38;5;28;43mlist\u001b[39;49m\u001b[43m(\u001b[49m\u001b[43moutput\u001b[49m\u001b[43m)\u001b[49m\n\u001b[0;32m   1920\u001b[0m \u001b[38;5;66;03m# Let's create an ID that uniquely identifies the current call. If the\u001b[39;00m\n\u001b[0;32m   1921\u001b[0m \u001b[38;5;66;03m# call is interrupted early and that the same instance is immediately\u001b[39;00m\n\u001b[0;32m   1922\u001b[0m \u001b[38;5;66;03m# re-used, this id will be used to prevent workers that were\u001b[39;00m\n\u001b[0;32m   1923\u001b[0m \u001b[38;5;66;03m# concurrently finalizing a task from the previous call to run the\u001b[39;00m\n\u001b[0;32m   1924\u001b[0m \u001b[38;5;66;03m# callback.\u001b[39;00m\n\u001b[0;32m   1925\u001b[0m \u001b[38;5;28;01mwith\u001b[39;00m \u001b[38;5;28mself\u001b[39m\u001b[38;5;241m.\u001b[39m_lock:\n",
      "File \u001b[1;32mD:\\miniCondaa\\envs\\gpu_kaggle1IFT3395\\lib\\site-packages\\joblib\\parallel.py:1847\u001b[0m, in \u001b[0;36mParallel._get_sequential_output\u001b[1;34m(self, iterable)\u001b[0m\n\u001b[0;32m   1845\u001b[0m \u001b[38;5;28mself\u001b[39m\u001b[38;5;241m.\u001b[39mn_dispatched_batches \u001b[38;5;241m+\u001b[39m\u001b[38;5;241m=\u001b[39m \u001b[38;5;241m1\u001b[39m\n\u001b[0;32m   1846\u001b[0m \u001b[38;5;28mself\u001b[39m\u001b[38;5;241m.\u001b[39mn_dispatched_tasks \u001b[38;5;241m+\u001b[39m\u001b[38;5;241m=\u001b[39m \u001b[38;5;241m1\u001b[39m\n\u001b[1;32m-> 1847\u001b[0m res \u001b[38;5;241m=\u001b[39m func(\u001b[38;5;241m*\u001b[39margs, \u001b[38;5;241m*\u001b[39m\u001b[38;5;241m*\u001b[39mkwargs)\n\u001b[0;32m   1848\u001b[0m \u001b[38;5;28mself\u001b[39m\u001b[38;5;241m.\u001b[39mn_completed_tasks \u001b[38;5;241m+\u001b[39m\u001b[38;5;241m=\u001b[39m \u001b[38;5;241m1\u001b[39m\n\u001b[0;32m   1849\u001b[0m \u001b[38;5;28mself\u001b[39m\u001b[38;5;241m.\u001b[39mprint_progress()\n",
      "File \u001b[1;32mD:\\miniCondaa\\envs\\gpu_kaggle1IFT3395\\lib\\site-packages\\sklearn\\utils\\parallel.py:136\u001b[0m, in \u001b[0;36m_FuncWrapper.__call__\u001b[1;34m(self, *args, **kwargs)\u001b[0m\n\u001b[0;32m    134\u001b[0m     config \u001b[38;5;241m=\u001b[39m {}\n\u001b[0;32m    135\u001b[0m \u001b[38;5;28;01mwith\u001b[39;00m config_context(\u001b[38;5;241m*\u001b[39m\u001b[38;5;241m*\u001b[39mconfig):\n\u001b[1;32m--> 136\u001b[0m     \u001b[38;5;28;01mreturn\u001b[39;00m \u001b[38;5;28mself\u001b[39m\u001b[38;5;241m.\u001b[39mfunction(\u001b[38;5;241m*\u001b[39margs, \u001b[38;5;241m*\u001b[39m\u001b[38;5;241m*\u001b[39mkwargs)\n",
      "File \u001b[1;32mD:\\miniCondaa\\envs\\gpu_kaggle1IFT3395\\lib\\site-packages\\sklearn\\feature_selection\\_mutual_info.py:167\u001b[0m, in \u001b[0;36m_compute_mi\u001b[1;34m(x, y, x_discrete, y_discrete, n_neighbors)\u001b[0m\n\u001b[0;32m    165\u001b[0m     \u001b[38;5;28;01mreturn\u001b[39;00m _compute_mi_cd(y, x, n_neighbors)\n\u001b[0;32m    166\u001b[0m \u001b[38;5;28;01melif\u001b[39;00m \u001b[38;5;129;01mnot\u001b[39;00m x_discrete \u001b[38;5;129;01mand\u001b[39;00m y_discrete:\n\u001b[1;32m--> 167\u001b[0m     \u001b[38;5;28;01mreturn\u001b[39;00m \u001b[43m_compute_mi_cd\u001b[49m\u001b[43m(\u001b[49m\u001b[43mx\u001b[49m\u001b[43m,\u001b[49m\u001b[43m \u001b[49m\u001b[43my\u001b[49m\u001b[43m,\u001b[49m\u001b[43m \u001b[49m\u001b[43mn_neighbors\u001b[49m\u001b[43m)\u001b[49m\n\u001b[0;32m    168\u001b[0m \u001b[38;5;28;01melse\u001b[39;00m:\n\u001b[0;32m    169\u001b[0m     \u001b[38;5;28;01mreturn\u001b[39;00m _compute_mi_cc(x, y, n_neighbors)\n",
      "File \u001b[1;32mD:\\miniCondaa\\envs\\gpu_kaggle1IFT3395\\lib\\site-packages\\sklearn\\feature_selection\\_mutual_info.py:129\u001b[0m, in \u001b[0;36m_compute_mi_cd\u001b[1;34m(c, d, n_neighbors)\u001b[0m\n\u001b[0;32m    127\u001b[0m nn\u001b[38;5;241m.\u001b[39mset_params(n_neighbors\u001b[38;5;241m=\u001b[39mk)\n\u001b[0;32m    128\u001b[0m nn\u001b[38;5;241m.\u001b[39mfit(c[mask])\n\u001b[1;32m--> 129\u001b[0m r \u001b[38;5;241m=\u001b[39m \u001b[43mnn\u001b[49m\u001b[38;5;241;43m.\u001b[39;49m\u001b[43mkneighbors\u001b[49m\u001b[43m(\u001b[49m\u001b[43m)\u001b[49m[\u001b[38;5;241m0\u001b[39m]\n\u001b[0;32m    130\u001b[0m radius[mask] \u001b[38;5;241m=\u001b[39m np\u001b[38;5;241m.\u001b[39mnextafter(r[:, \u001b[38;5;241m-\u001b[39m\u001b[38;5;241m1\u001b[39m], \u001b[38;5;241m0\u001b[39m)\n\u001b[0;32m    131\u001b[0m k_all[mask] \u001b[38;5;241m=\u001b[39m k\n",
      "File \u001b[1;32mD:\\miniCondaa\\envs\\gpu_kaggle1IFT3395\\lib\\site-packages\\sklearn\\neighbors\\_base.py:903\u001b[0m, in \u001b[0;36mKNeighborsMixin.kneighbors\u001b[1;34m(self, X, n_neighbors, return_distance)\u001b[0m\n\u001b[0;32m    898\u001b[0m     \u001b[38;5;28;01mif\u001b[39;00m issparse(X):\n\u001b[0;32m    899\u001b[0m         \u001b[38;5;28;01mraise\u001b[39;00m \u001b[38;5;167;01mValueError\u001b[39;00m(\n\u001b[0;32m    900\u001b[0m             \u001b[38;5;124m\"\u001b[39m\u001b[38;5;132;01m%s\u001b[39;00m\u001b[38;5;124m does not work with sparse matrices. Densify the data, \u001b[39m\u001b[38;5;124m\"\u001b[39m\n\u001b[0;32m    901\u001b[0m             \u001b[38;5;124m\"\u001b[39m\u001b[38;5;124mor set algorithm=\u001b[39m\u001b[38;5;124m'\u001b[39m\u001b[38;5;124mbrute\u001b[39m\u001b[38;5;124m'\u001b[39m\u001b[38;5;124m\"\u001b[39m \u001b[38;5;241m%\u001b[39m \u001b[38;5;28mself\u001b[39m\u001b[38;5;241m.\u001b[39m_fit_method\n\u001b[0;32m    902\u001b[0m         )\n\u001b[1;32m--> 903\u001b[0m     chunked_results \u001b[38;5;241m=\u001b[39m \u001b[43mParallel\u001b[49m\u001b[43m(\u001b[49m\u001b[43mn_jobs\u001b[49m\u001b[43m,\u001b[49m\u001b[43m \u001b[49m\u001b[43mprefer\u001b[49m\u001b[38;5;241;43m=\u001b[39;49m\u001b[38;5;124;43m\"\u001b[39;49m\u001b[38;5;124;43mthreads\u001b[39;49m\u001b[38;5;124;43m\"\u001b[39;49m\u001b[43m)\u001b[49m\u001b[43m(\u001b[49m\n\u001b[0;32m    904\u001b[0m \u001b[43m        \u001b[49m\u001b[43mdelayed\u001b[49m\u001b[43m(\u001b[49m\u001b[43m_tree_query_parallel_helper\u001b[49m\u001b[43m)\u001b[49m\u001b[43m(\u001b[49m\n\u001b[0;32m    905\u001b[0m \u001b[43m            \u001b[49m\u001b[38;5;28;43mself\u001b[39;49m\u001b[38;5;241;43m.\u001b[39;49m\u001b[43m_tree\u001b[49m\u001b[43m,\u001b[49m\u001b[43m \u001b[49m\u001b[43mX\u001b[49m\u001b[43m[\u001b[49m\u001b[43ms\u001b[49m\u001b[43m]\u001b[49m\u001b[43m,\u001b[49m\u001b[43m \u001b[49m\u001b[43mn_neighbors\u001b[49m\u001b[43m,\u001b[49m\u001b[43m \u001b[49m\u001b[43mreturn_distance\u001b[49m\n\u001b[0;32m    906\u001b[0m \u001b[43m        \u001b[49m\u001b[43m)\u001b[49m\n\u001b[0;32m    907\u001b[0m \u001b[43m        \u001b[49m\u001b[38;5;28;43;01mfor\u001b[39;49;00m\u001b[43m \u001b[49m\u001b[43ms\u001b[49m\u001b[43m \u001b[49m\u001b[38;5;129;43;01min\u001b[39;49;00m\u001b[43m \u001b[49m\u001b[43mgen_even_slices\u001b[49m\u001b[43m(\u001b[49m\u001b[43mX\u001b[49m\u001b[38;5;241;43m.\u001b[39;49m\u001b[43mshape\u001b[49m\u001b[43m[\u001b[49m\u001b[38;5;241;43m0\u001b[39;49m\u001b[43m]\u001b[49m\u001b[43m,\u001b[49m\u001b[43m \u001b[49m\u001b[43mn_jobs\u001b[49m\u001b[43m)\u001b[49m\n\u001b[0;32m    908\u001b[0m \u001b[43m    \u001b[49m\u001b[43m)\u001b[49m\n\u001b[0;32m    909\u001b[0m \u001b[38;5;28;01melse\u001b[39;00m:\n\u001b[0;32m    910\u001b[0m     \u001b[38;5;28;01mraise\u001b[39;00m \u001b[38;5;167;01mValueError\u001b[39;00m(\u001b[38;5;124m\"\u001b[39m\u001b[38;5;124minternal: _fit_method not recognized\u001b[39m\u001b[38;5;124m\"\u001b[39m)\n",
      "File \u001b[1;32mD:\\miniCondaa\\envs\\gpu_kaggle1IFT3395\\lib\\site-packages\\sklearn\\utils\\parallel.py:74\u001b[0m, in \u001b[0;36mParallel.__call__\u001b[1;34m(self, iterable)\u001b[0m\n\u001b[0;32m     69\u001b[0m config \u001b[38;5;241m=\u001b[39m get_config()\n\u001b[0;32m     70\u001b[0m iterable_with_config \u001b[38;5;241m=\u001b[39m (\n\u001b[0;32m     71\u001b[0m     (_with_config(delayed_func, config), args, kwargs)\n\u001b[0;32m     72\u001b[0m     \u001b[38;5;28;01mfor\u001b[39;00m delayed_func, args, kwargs \u001b[38;5;129;01min\u001b[39;00m iterable\n\u001b[0;32m     73\u001b[0m )\n\u001b[1;32m---> 74\u001b[0m \u001b[38;5;28;01mreturn\u001b[39;00m \u001b[38;5;28;43msuper\u001b[39;49m\u001b[43m(\u001b[49m\u001b[43m)\u001b[49m\u001b[38;5;241;43m.\u001b[39;49m\u001b[38;5;21;43m__call__\u001b[39;49m\u001b[43m(\u001b[49m\u001b[43miterable_with_config\u001b[49m\u001b[43m)\u001b[49m\n",
      "File \u001b[1;32mD:\\miniCondaa\\envs\\gpu_kaggle1IFT3395\\lib\\site-packages\\joblib\\parallel.py:1918\u001b[0m, in \u001b[0;36mParallel.__call__\u001b[1;34m(self, iterable)\u001b[0m\n\u001b[0;32m   1916\u001b[0m     output \u001b[38;5;241m=\u001b[39m \u001b[38;5;28mself\u001b[39m\u001b[38;5;241m.\u001b[39m_get_sequential_output(iterable)\n\u001b[0;32m   1917\u001b[0m     \u001b[38;5;28mnext\u001b[39m(output)\n\u001b[1;32m-> 1918\u001b[0m     \u001b[38;5;28;01mreturn\u001b[39;00m output \u001b[38;5;28;01mif\u001b[39;00m \u001b[38;5;28mself\u001b[39m\u001b[38;5;241m.\u001b[39mreturn_generator \u001b[38;5;28;01melse\u001b[39;00m \u001b[38;5;28;43mlist\u001b[39;49m\u001b[43m(\u001b[49m\u001b[43moutput\u001b[49m\u001b[43m)\u001b[49m\n\u001b[0;32m   1920\u001b[0m \u001b[38;5;66;03m# Let's create an ID that uniquely identifies the current call. If the\u001b[39;00m\n\u001b[0;32m   1921\u001b[0m \u001b[38;5;66;03m# call is interrupted early and that the same instance is immediately\u001b[39;00m\n\u001b[0;32m   1922\u001b[0m \u001b[38;5;66;03m# re-used, this id will be used to prevent workers that were\u001b[39;00m\n\u001b[0;32m   1923\u001b[0m \u001b[38;5;66;03m# concurrently finalizing a task from the previous call to run the\u001b[39;00m\n\u001b[0;32m   1924\u001b[0m \u001b[38;5;66;03m# callback.\u001b[39;00m\n\u001b[0;32m   1925\u001b[0m \u001b[38;5;28;01mwith\u001b[39;00m \u001b[38;5;28mself\u001b[39m\u001b[38;5;241m.\u001b[39m_lock:\n",
      "File \u001b[1;32mD:\\miniCondaa\\envs\\gpu_kaggle1IFT3395\\lib\\site-packages\\joblib\\parallel.py:1847\u001b[0m, in \u001b[0;36mParallel._get_sequential_output\u001b[1;34m(self, iterable)\u001b[0m\n\u001b[0;32m   1845\u001b[0m \u001b[38;5;28mself\u001b[39m\u001b[38;5;241m.\u001b[39mn_dispatched_batches \u001b[38;5;241m+\u001b[39m\u001b[38;5;241m=\u001b[39m \u001b[38;5;241m1\u001b[39m\n\u001b[0;32m   1846\u001b[0m \u001b[38;5;28mself\u001b[39m\u001b[38;5;241m.\u001b[39mn_dispatched_tasks \u001b[38;5;241m+\u001b[39m\u001b[38;5;241m=\u001b[39m \u001b[38;5;241m1\u001b[39m\n\u001b[1;32m-> 1847\u001b[0m res \u001b[38;5;241m=\u001b[39m func(\u001b[38;5;241m*\u001b[39margs, \u001b[38;5;241m*\u001b[39m\u001b[38;5;241m*\u001b[39mkwargs)\n\u001b[0;32m   1848\u001b[0m \u001b[38;5;28mself\u001b[39m\u001b[38;5;241m.\u001b[39mn_completed_tasks \u001b[38;5;241m+\u001b[39m\u001b[38;5;241m=\u001b[39m \u001b[38;5;241m1\u001b[39m\n\u001b[0;32m   1849\u001b[0m \u001b[38;5;28mself\u001b[39m\u001b[38;5;241m.\u001b[39mprint_progress()\n",
      "File \u001b[1;32mD:\\miniCondaa\\envs\\gpu_kaggle1IFT3395\\lib\\site-packages\\sklearn\\utils\\parallel.py:136\u001b[0m, in \u001b[0;36m_FuncWrapper.__call__\u001b[1;34m(self, *args, **kwargs)\u001b[0m\n\u001b[0;32m    134\u001b[0m     config \u001b[38;5;241m=\u001b[39m {}\n\u001b[0;32m    135\u001b[0m \u001b[38;5;28;01mwith\u001b[39;00m config_context(\u001b[38;5;241m*\u001b[39m\u001b[38;5;241m*\u001b[39mconfig):\n\u001b[1;32m--> 136\u001b[0m     \u001b[38;5;28;01mreturn\u001b[39;00m \u001b[38;5;28mself\u001b[39m\u001b[38;5;241m.\u001b[39mfunction(\u001b[38;5;241m*\u001b[39margs, \u001b[38;5;241m*\u001b[39m\u001b[38;5;241m*\u001b[39mkwargs)\n",
      "File \u001b[1;32mD:\\miniCondaa\\envs\\gpu_kaggle1IFT3395\\lib\\site-packages\\sklearn\\neighbors\\_base.py:704\u001b[0m, in \u001b[0;36m_tree_query_parallel_helper\u001b[1;34m(tree, *args, **kwargs)\u001b[0m\n\u001b[0;32m    698\u001b[0m \u001b[38;5;28;01mdef\u001b[39;00m \u001b[38;5;21m_tree_query_parallel_helper\u001b[39m(tree, \u001b[38;5;241m*\u001b[39margs, \u001b[38;5;241m*\u001b[39m\u001b[38;5;241m*\u001b[39mkwargs):\n\u001b[0;32m    699\u001b[0m \u001b[38;5;250m    \u001b[39m\u001b[38;5;124;03m\"\"\"Helper for the Parallel calls in KNeighborsMixin.kneighbors.\u001b[39;00m\n\u001b[0;32m    700\u001b[0m \n\u001b[0;32m    701\u001b[0m \u001b[38;5;124;03m    The Cython method tree.query is not directly picklable by cloudpickle\u001b[39;00m\n\u001b[0;32m    702\u001b[0m \u001b[38;5;124;03m    under PyPy.\u001b[39;00m\n\u001b[0;32m    703\u001b[0m \u001b[38;5;124;03m    \"\"\"\u001b[39;00m\n\u001b[1;32m--> 704\u001b[0m     \u001b[38;5;28;01mreturn\u001b[39;00m tree\u001b[38;5;241m.\u001b[39mquery(\u001b[38;5;241m*\u001b[39margs, \u001b[38;5;241m*\u001b[39m\u001b[38;5;241m*\u001b[39mkwargs)\n",
      "\u001b[1;31mKeyboardInterrupt\u001b[0m: "
     ]
    }
   ],
   "source": [
    "# Further dimensionality reduction with GPU acceleration and F1_scores for\n",
    "# different randomized hyper-parameter combinations\n",
    "\n",
    "# Define the evaluation metric\n",
    "f1_scorer = make_scorer(f1_score, average='macro')\n",
    "\n",
    "# Function to optimize with Optuna\n",
    "def objective(trial, X, y):\n",
    "    # Step 1: Optimize `k` for feature selection\n",
    "    k = trial.suggest_int('k', 500, 5000, step=500)\n",
    "    \n",
    "    # Choose the feature selection method\n",
    "    feature_selection_method = trial.suggest_categorical('method', ['chi2', 'mutual_info'])\n",
    "\n",
    "    # Automatically switch to mutual_info_classif if the data contains negative values\n",
    "    if feature_selection_method == 'chi2' and (X < 0).any():\n",
    "        print(\"Data contains negative values, switching to mutual_info_classif\")\n",
    "        selector = SelectKBest(mutual_info_classif, k=k)    \n",
    "        \n",
    "    elif feature_selection_method == 'chi2':\n",
    "        selector = SelectKBest(chi2, k=k)\n",
    "    else:\n",
    "        selector = SelectKBest(mutual_info_classif, k=k)\n",
    "    \n",
    "    X_reduced = selector.fit_transform(X, y)\n",
    "    \n",
    "    # Step 2: Optimize LightGBM hyperparameters\n",
    "    params = {\n",
    "        'objective': 'binary',\n",
    "        'n_estimators': trial.suggest_int('n_estimators', 100, 1000),\n",
    "        'learning_rate': trial.suggest_float('learning_rate', 0.01, 0.1, log = True),\n",
    "        'num_leaves': trial.suggest_int('num_leaves', 20, 100),\n",
    "        'max_depth': trial.suggest_int('max_depth', 5, 20),\n",
    "        'min_child_samples': trial.suggest_int('min_child_samples', 10, 50),\n",
    "        'min_child_weight': trial.suggest_float('min_child_weight', 1e-3, 1e-1, log = True),\n",
    "        'subsample': trial.suggest_float('subsample', 0.5, 1.0),\n",
    "        'colsample_bytree': trial.suggest_float('colsample_bytree', 0.5, 1.0),\n",
    "        'lambda_l1': trial.suggest_float('lambda_l1', 1e-3, 1.0, log = True),\n",
    "        'lambda_l2': trial.suggest_float('lambda_l2', 1e-3, 1.0, log = True),\n",
    "        'scale_pos_weight': len(y[y == 0]) / len(y[y == 1]),\n",
    "        'device': 'gpu',  # Use GPU acceleration\n",
    "        'random_state': 42,\n",
    "        'n_jobs': -1\n",
    "    }\n",
    "    \n",
    "    model = LGBMClassifier(**params)\n",
    "    \n",
    "    # Evaluate using cross-validation\n",
    "    scores = cross_val_score(model, X_reduced, y, cv=3, scoring=f1_scorer, n_jobs=-1)\n",
    "    return scores.mean()\n",
    "\n",
    "# Optimize hyperparameters using Optuna with a progress bar\n",
    "def optimize_with_optuna(X, y, n_trials=50):\n",
    "    study = optuna.create_study(direction='maximize')\n",
    "    \n",
    "    with tqdm(total=n_trials, desc=\"Optuna Trials Progress\") as pbar:\n",
    "        def callback(study, trial):\n",
    "            # Update progress bar on each completed trial\n",
    "            pbar.update(1)\n",
    "            # Print the best trial so far\n",
    "            print(f\"Trial {trial.number} completed - F1 Score: {trial.value:.4f}, Best F1 Score: {study.best_value:.4f}\")\n",
    "\n",
    "        study.optimize(lambda trial: objective(trial, X, y), n_trials=n_trials, callbacks=[callback])\n",
    "    \n",
    "    print(f\"\\nBest F1 Score: {study.best_value:.4f}\")\n",
    "    print(\"Best Parameters:\", study.best_params)\n",
    "    \n",
    "    # Visualize optimization results\n",
    "    plot_optimization_history(study).show()\n",
    "    plot_param_importances(study).show()\n",
    "    plot_parallel_coordinate(study).show()\n",
    "    plot_slice(study).show()\n",
    "    plot_contour(study).show()\n",
    "    \n",
    "    return study.best_params\n",
    "\n",
    "# Load your preprocessed data after applying SVD\n",
    "print(\"\\nApplying Optuna Optimization on SVD Data...\")\n",
    "best_params = optimize_with_optuna(X_svd_optimal, y, n_trials=50)\n",
    "\n",
    "# Train final model using the best parameters found\n",
    "def train_final_model(X, y, params):\n",
    "    k = params.pop('k')\n",
    "    method = params.pop('method')\n",
    "    \n",
    "    if method == 'chi2':\n",
    "        selector = SelectKBest(chi2, k=k)\n",
    "    else:\n",
    "        selector = SelectKBest(mutual_info_classif, k=k)\n",
    "    \n",
    "    X_reduced = selector.fit_transform(X, y)\n",
    "    model = LGBMClassifier(**params)\n",
    "    scores = cross_val_score(model, X_reduced, y, cv=3, scoring=f1_scorer, n_jobs=-1)\n",
    "    print(f\"\\nFinal Model F1 Score: {scores.mean():.4f}\")\n",
    "\n",
    "print(\"\\nTraining Final Model with Optimized Parameters...\")\n",
    "train_final_model(X_svd_optimal, y, best_params)"
   ]
  },
  {
   "cell_type": "code",
   "execution_count": null,
   "id": "205da07c-d3bb-4e05-8bb1-eb4aa26a829d",
   "metadata": {},
   "outputs": [
    {
     "name": "stderr",
     "output_type": "stream",
     "text": [
      "[I 2024-11-09 09:31:22,282] A new study created in memory with name: no-name-80b57a1d-2871-4bc8-9fc0-4a1b2fc0ce35\n"
     ]
    },
    {
     "name": "stdout",
     "output_type": "stream",
     "text": [
      "\n",
      "Applying Optuna Optimization on SVD Data...\n"
     ]
    },
    {
     "name": "stderr",
     "output_type": "stream",
     "text": [
      "Optuna Trials Progress:   0%|                                                                   | 0/50 [00:00<?, ?it/s]"
     ]
    }
   ],
   "source": [
    "# Further dimensionality reduction with GPU acceleration and F1_scores for\n",
    "# different randomized hyper-parameter combinations\n",
    "\n",
    "# Define the evaluation metric\n",
    "f1_scorer = make_scorer(f1_score, average='macro')\n",
    "\n",
    "# Function to optimize with Optuna\n",
    "def objective(trial, X, y):\n",
    "    # Step 1: Optimize `k` for feature selection\n",
    "    k = 5000\n",
    "    \n",
    "    # Choose the feature selection method\n",
    "    feature_selection_method = trial.suggest_categorical('method', ['chi2', 'mutual_info'])\n",
    "\n",
    "    # Automatically switch to mutual_info_classif if the data contains negative values\n",
    "    if feature_selection_method == 'chi2' and (X < 0).any():\n",
    "        feature_selection_method = \"mutual_info\"\n",
    "        selector = SelectKBest(mutual_info_classif, k=k)    \n",
    "        \n",
    "    elif feature_selection_method == 'chi2':\n",
    "        feature_selection_method = \"mutual_info\"\n",
    "        selector = SelectKBest(mutual_info_classif, k=k)\n",
    "    else:\n",
    "        selector = SelectKBest(mutual_info_classif, k=k)\n",
    "    \n",
    "    X_reduced = selector.fit_transform(X, y)\n",
    "    \n",
    "    # Step 2: Optimize LightGBM hyperparameters\n",
    "    params = {\n",
    "        'objective': 'binary',\n",
    "        'n_estimators': trial.suggest_int('n_estimators', 500, 2000),\n",
    "        'learning_rate': trial.suggest_float('learning_rate', 0.005, 0.011, log = True),\n",
    "        'num_leaves': trial.suggest_int('num_leaves', 20, 60),\n",
    "        'max_depth': trial.suggest_int('max_depth', 5, 20),\n",
    "        'min_child_samples': trial.suggest_int('min_child_samples', 10, 50),\n",
    "        'min_child_weight': trial.suggest_float('min_child_weight', 1e-3, 1e-1, log = True),\n",
    "        'subsample': trial.suggest_float('subsample', 0.7, 1.0),\n",
    "        'colsample_bytree': trial.suggest_float('colsample_bytree', 0.5, 0.9),\n",
    "        'lambda_l1': trial.suggest_float('lambda_l1', 1e-3, 0.5, log = True),\n",
    "        'lambda_l2': trial.suggest_float('lambda_l2', 1e-3, 0.5, log = True),\n",
    "        'scale_pos_weight': len(y[y == 0]) / len(y[y == 1]),\n",
    "        'device': 'gpu',  # Use GPU acceleration\n",
    "        'random_state': 42,\n",
    "        'n_jobs': -1\n",
    "    }\n",
    "    \n",
    "    model = LGBMClassifier(**params)\n",
    "    \n",
    "    # Evaluate using cross-validation\n",
    "    scores = cross_val_score(model, X_reduced, y, cv=3, scoring=f1_scorer, n_jobs=-1)\n",
    "    return scores.mean()\n",
    "\n",
    "# Optimize hyperparameters using Optuna with a progress bar\n",
    "def optimize_with_optuna(X, y, n_trials=50):\n",
    "    study = optuna.create_study(direction='maximize')\n",
    "    \n",
    "    with tqdm(total=n_trials, desc=\"Optuna Trials Progress\") as pbar:\n",
    "        def callback(study, trial):\n",
    "            # Update progress bar on each completed trial\n",
    "            pbar.update(1)\n",
    "            # Print the best trial so far\n",
    "            print(f\"Trial {trial.number} completed - F1 Score: {trial.value:.4f}, Best F1 Score: {study.best_value:.4f}\")\n",
    "\n",
    "        study.optimize(lambda trial: objective(trial, X, y), n_trials=n_trials, callbacks=[callback])\n",
    "    \n",
    "    print(f\"\\nBest F1 Score: {study.best_value:.4f}\")\n",
    "    print(\"Best Parameters:\", study.best_params)\n",
    "    \n",
    "    # Visualize optimization results\n",
    "    plot_optimization_history(study).show()\n",
    "    plot_param_importances(study).show()\n",
    "    plot_parallel_coordinate(study).show()\n",
    "    plot_slice(study).show()\n",
    "    plot_contour(study).show()\n",
    "    \n",
    "    return study.best_params\n",
    "\n",
    "# Load your preprocessed data after applying SVD\n",
    "print(\"\\nApplying Optuna Optimization on SVD Data...\")\n",
    "best_params = optimize_with_optuna(X_svd_optimal, y, n_trials=50)\n",
    "\n",
    "# Train final model using the best parameters found\n",
    "def train_final_model(X, y, params):\n",
    "    k = params.pop('k')\n",
    "    method = params.pop('method')\n",
    "    \n",
    "    if method == 'chi2':\n",
    "        selector = SelectKBest(chi2, k=k)\n",
    "    else:\n",
    "        selector = SelectKBest(mutual_info_classif, k=k)\n",
    "    \n",
    "    X_reduced = selector.fit_transform(X, y)\n",
    "    model = LGBMClassifier(**params)\n",
    "    scores = cross_val_score(model, X_reduced, y, cv=3, scoring=f1_scorer, n_jobs=-1)\n",
    "    print(f\"\\nFinal Model F1 Score: {scores.mean():.4f}\")\n",
    "\n",
    "print(\"\\nTraining Final Model with Optimized Parameters...\")\n",
    "train_final_model(X_svd_optimal, y, best_params)"
   ]
  }
 ],
 "metadata": {
  "kernelspec": {
   "display_name": "Python 3 (ipykernel)",
   "language": "python",
   "name": "python3"
  },
  "language_info": {
   "codemirror_mode": {
    "name": "ipython",
    "version": 3
   },
   "file_extension": ".py",
   "mimetype": "text/x-python",
   "name": "python",
   "nbconvert_exporter": "python",
   "pygments_lexer": "ipython3",
   "version": "3.9.20"
  }
 },
 "nbformat": 4,
 "nbformat_minor": 5
}
